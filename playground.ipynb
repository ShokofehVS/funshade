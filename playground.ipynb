{
 "cells": [
  {
   "cell_type": "code",
   "execution_count": 1,
   "id": "0585fbc5",
   "metadata": {
    "ExecuteTime": {
     "end_time": "2023-03-09T10:49:51.569367Z",
     "start_time": "2023-03-09T10:49:51.567280Z"
    },
    "init_cell": true
   },
   "outputs": [],
   "source": [
    "import numpy as np"
   ]
  },
  {
   "cell_type": "code",
   "execution_count": 2,
   "id": "8225d079",
   "metadata": {
    "ExecuteTime": {
     "end_time": "2023-03-09T10:49:51.939620Z",
     "start_time": "2023-03-09T10:49:51.572312Z"
    },
    "init_cell": true
   },
   "outputs": [],
   "source": [
    "%load_ext cython"
   ]
  },
  {
   "cell_type": "markdown",
   "id": "51d1890b",
   "metadata": {},
   "source": [
    "# ABY2.0 Scalar Product"
   ]
  },
  {
   "cell_type": "markdown",
   "id": "f05f8fc5",
   "metadata": {},
   "source": [
    "## Implementation"
   ]
  },
  {
   "cell_type": "code",
   "execution_count": 3,
   "id": "57f2122a",
   "metadata": {
    "ExecuteTime": {
     "end_time": "2023-03-09T10:49:51.947547Z",
     "start_time": "2023-03-09T10:49:51.941315Z"
    },
    "init_cell": true
   },
   "outputs": [],
   "source": [
    "np.seterr(over='ignore') # Supress overflow warnings --> avoid warnings when modulo kicks in\n",
    "\n",
    "def SP_Setup(l: int, dtype_Z2n: type = np.uint32, seed=42):\n",
    "    # Set Ring info from dtype\n",
    "    if not np.issubdtype(dtype_Z2n, np.integer):\n",
    "        raise TypeError(\"dtype must be a numeric numpy type\")\n",
    "    Z2n_info = np.iinfo(dtype_Z2n)\n",
    "    Z2n = (Z2n_info.min, Z2n_info.max)\n",
    "    \n",
    "    # Sample correlated input shares [δx] * [δy] = [δxy] \n",
    "    rng = np.random.default_rng(seed)\n",
    "    δx0, δx1, δy0, δy1, δxy0 = \\\n",
    "        rng.integers(low=Z2n[0], high=Z2n[1], size=(5,l), dtype=dtype_Z2n)\n",
    "    δxy1 = (δx0+δx1) * (δy0+δy1) - δxy0\n",
    "    # Sample and output shares [δz]\n",
    "    δz0, δz1 = rng.integers(low=Z2n[0], high=Z2n[1], size=(2), dtype=dtype_Z2n)\n",
    "    return δx0, δx1, δy0, δy1, δxy0, δxy1, δz0, δz1\n",
    "\n",
    "def SP_Online_local(j, Δx, δx_j, Δy, δy_j, δxy_j, δz_j):\n",
    "    # Compute local share of [Δz]\n",
    "    Δz_j = np.sum((Δx*Δy if j else 0) - Δx*δy_j - Δy*δx_j + δxy_j) + δz_j\n",
    "    return Δz_j\n",
    "\n",
    "def SP_Online(Δx, δx0, δx1, Δy, δy0, δy1, δxy0, δxy1, δz0, δz1):\n",
    "    # P0\n",
    "    Δz0 = SP_Online_local(0, Δx, δx0, Δy, δy0, δxy0, δz0)\n",
    "    # P1\n",
    "    Δz1 = SP_Online_local(1, Δx, δx1, Δy, δy1, δxy1, δz1)\n",
    "    # Exchange shares and reconstruct common share Δy\n",
    "    Δz = Δz0 + Δz1\n",
    "    return Δz\n",
    "\n",
    "def share(x, δx0, δx1):\n",
    "    \"\"\"Secret Share `x`, using the precomputed δx0 and δx1 to output the common Δx share\"\"\"\n",
    "    return x+(δx0+δx1)\n",
    "\n",
    "def reconstruct(Δx, δx0, δx1):\n",
    "    \"\"\"Reconstruct secret from triangular Secret Shares \"\"\"\n",
    "    return Δx-(δx0+δx1)"
   ]
  },
  {
   "cell_type": "markdown",
   "id": "bd63de43",
   "metadata": {},
   "source": [
    "## Example"
   ]
  },
  {
   "cell_type": "code",
   "execution_count": 2,
   "id": "7f7005d6",
   "metadata": {
    "ExecuteTime": {
     "end_time": "2022-08-23T08:09:49.393382Z",
     "start_time": "2022-08-23T08:09:49.380187Z"
    }
   },
   "outputs": [],
   "source": [
    "## SETUP\n",
    "l         = 128\n",
    "dtype_Z2n = np.uint32\n",
    "δx0, δx1, δy0, δy1, δxy0, δxy1, δz0, δz1 = SP_Setup(l=128, dtype_Z2n=dtype_Z2n)"
   ]
  },
  {
   "cell_type": "code",
   "execution_count": 3,
   "id": "e1f2061d",
   "metadata": {
    "ExecuteTime": {
     "end_time": "2022-08-23T08:09:51.430647Z",
     "start_time": "2022-08-23T08:09:51.398350Z"
    }
   },
   "outputs": [],
   "source": [
    "## ONLINE\n",
    "# Data sharing\n",
    "x = np.random.randint(0, 2**12, size=l, dtype=dtype_Z2n)\n",
    "y = np.random.randint(0, 2**12, size=l, dtype=dtype_Z2n)\n",
    "Δx = share(x, δx0, δx1)\n",
    "Δy = share(y, δy0, δy1)\n",
    "\n",
    "# SP computation\n",
    "Δz = SP_Online(Δx, δx0, δx1, Δy, δy0, δy1, δxy0, δxy1, δz0, δz1)"
   ]
  },
  {
   "cell_type": "code",
   "execution_count": 4,
   "id": "e4d69b65",
   "metadata": {
    "ExecuteTime": {
     "end_time": "2022-08-23T08:09:52.892101Z",
     "start_time": "2022-08-23T08:09:52.860000Z"
    }
   },
   "outputs": [
    {
     "data": {
      "text/plain": [
       "(539056012, 539056012)"
      ]
     },
     "execution_count": 4,
     "metadata": {},
     "output_type": "execute_result"
    }
   ],
   "source": [
    "# Reconstruct and open result\n",
    "z = reconstruct(Δz, δz0, δz1)\n",
    "z, x@y"
   ]
  },
  {
   "cell_type": "markdown",
   "id": "da2d0b11",
   "metadata": {},
   "source": [
    "# Funshade"
   ]
  },
  {
   "cell_type": "code",
   "execution_count": 20,
   "id": "0f4df780",
   "metadata": {
    "ExecuteTime": {
     "end_time": "2023-03-09T22:41:15.048864Z",
     "start_time": "2023-03-09T22:41:15.043272Z"
    }
   },
   "outputs": [],
   "source": [
    "%%cython -c=-O3 -c=-maes -c=-msse -c=-msse2 -c=-DDTYPE_t=int64_t -c=-DUSE_LIBSODIUM -I fss -S fss/aes.c -S fss/fss.c -lsodium -c=-DNPY_NO_DEPRECATED_API=NPY_1_7_API_VERSION\n",
    "# cython: boundscheck=False, wraparound=False, initializedcheck=False, nonecheck=False, embedsignature=True\n",
    "cimport numpy as np\n",
    "import numpy as np\n",
    "cimport cython\n",
    "\n",
    "# from libc.string cimport memcpy, memset\n",
    "from libcpp cimport bool\n",
    "\n",
    "from libc.stdint cimport uint8_t\n",
    "from libc.stdlib cimport malloc, free\n",
    "\n",
    "cdef extern from \"fss.h\" nogil:\n",
    "    ctypedef int DTYPE_t\n",
    "    const size_t KEY_LEN\n",
    "    DTYPE_t random_dtype()\n",
    "    void random_buffer(uint8_t buffer[], size_t buffer_len)\n",
    "    void SIGN_gen(DTYPE_t r_in, DTYPE_t r_out, uint8_t k0[KEY_LEN], uint8_t k1[KEY_LEN])\n",
    "    DTYPE_t SIGN_eval(bool b, uint8_t kb[KEY_LEN], DTYPE_t x_hat)\n",
    "\n",
    "# build the corresponding numpy dtype for DTYPE_t\n",
    "cdef DTYPE_t tmp\n",
    "DTYPE = np.asarray(<DTYPE_t[:1]>(&tmp)).dtype\n",
    "\n",
    "cdef class funshade_key:\n",
    "    cdef uint8_t* keystring\n",
    "    def __cinit__(self):\n",
    "        self.keystring = <uint8_t*> malloc(KEY_LEN*sizeof(uint8_t))\n",
    "    def __init__(self):\n",
    "        if not self.keystring:     raise MemoryError()\n",
    "    def __dealloc__(self):\n",
    "        if (self.keystring!=NULL): free(self.keystring)\n",
    "\n",
    "    # ------------------------- PYTHON LEVEL PROPERTIES -------------------- #\n",
    "    @property\n",
    "    def array(self):\n",
    "        return np.asarray(<uint8_t[:KEY_LEN]>self.keystring)\n",
    "    @property\n",
    "    def dtype(self):\n",
    "        return DTYPE\n",
    "    def __len__(self):\n",
    "        return KEY_LEN\n",
    "    def __repr__(self):\n",
    "        return \"<funshade key: 0x{}..., size={}B, ring={}>\".format(\n",
    "            self.array[:10].tobytes().hex(), len(self), self.dtype)\n",
    "    \n",
    "def funshade_setup(size_t l, DTYPE_t theta):\n",
    "    # Beaver Triples for Pi-sharing scalar product\n",
    "    cdef np.ndarray[DTYPE_t, ndim=1] delta_x_0 = np.empty(shape=(l), dtype=DTYPE),\\\n",
    "            delta_x_1 = np.empty(l, DTYPE), delta_y_0 = np.empty(l, DTYPE),\\\n",
    "            delta_y_1 = np.empty(l, DTYPE),delta_xy_0 = np.empty(l, DTYPE)\n",
    "    random_buffer(<uint8_t*>delta_x_0.data,  l*sizeof(DTYPE_t))\n",
    "    random_buffer(<uint8_t*>delta_x_1.data,  l*sizeof(DTYPE_t))\n",
    "    random_buffer(<uint8_t*>delta_y_0.data,  l*sizeof(DTYPE_t))\n",
    "    random_buffer(<uint8_t*>delta_y_1.data,  l*sizeof(DTYPE_t))\n",
    "    random_buffer(<uint8_t*>delta_xy_0.data, l*sizeof(DTYPE_t))\n",
    "    cdef np.ndarray[DTYPE_t, ndim=1] delta_xy_1 = \\\n",
    "            (delta_x_0+delta_x_1) * (delta_y_0+delta_y_1) - delta_xy_0\n",
    "    \n",
    "    # FSS interval containment\n",
    "    cdef DTYPE_t r_0 = random_dtype()\n",
    "    cdef DTYPE_t r_1 = random_dtype()\n",
    "    cdef DTYPE_t r = r_0 + r_1\n",
    "    cdef DTYPE_t r_theta_0 = r_0\n",
    "    cdef DTYPE_t r_theta_1 = r_1 - theta\n",
    "    \n",
    "    cdef funshade_key k0 = funshade_key(), k1 = funshade_key()\n",
    "    SIGN_gen(r, 0, &k0.keystring[0], &k1.keystring[0])\n",
    "    \n",
    "    return delta_x_0, delta_x_1, delta_y_0, delta_y_1, delta_xy_0, delta_xy_1, r_theta_0, r_theta_1, k0, k1\n",
    "\n",
    "\n",
    "cpdef np.ndarray[DTYPE_t, ndim=1] funshade_share(DTYPE_t[:] v, DTYPE_t[:] delta_v):\n",
    "    cdef size_t i, l = v.shape[0], \n",
    "    cdef np.ndarray[DTYPE_t, ndim=1] Delta_v = np.empty(shape=(l), dtype=DTYPE)\n",
    "    # Compute local share of [Δz]\n",
    "    for i in range(l):\n",
    "        Delta_v[i] = delta_v[i] - v[i]\n",
    "    return Delta_v\n",
    "\n",
    "cpdef DTYPE_t funshade_eval_sp(bool j, DTYPE_t[:] Delta_x, DTYPE_t[:] Delta_y,\n",
    "                         DTYPE_t[:] delta_x_j, DTYPE_t[:] delta_y_j, \n",
    "                         DTYPE_t[:] delta_xy_j, DTYPE_t delta_z_j):\n",
    "    cdef size_t l = Delta_x.shape[0], i\n",
    "    cdef DTYPE_t Delta_z_j = delta_z_j\n",
    "    # Compute local share of [Δz]\n",
    "    for i in range(l):\n",
    "        Delta_z_j += j*Delta_x[i]*Delta_y[i] - Delta_x[i]*delta_y_j[i]\\\n",
    "                             + delta_xy_j[i] - Delta_y[i]*delta_x_j[i]\n",
    "    return Delta_z_j\n",
    "\n",
    "cpdef DTYPE_t funshade_eval_sign(bool j, funshade_key kj, DTYPE_t z_hat):\n",
    "    return SIGN_eval(j, kj.keystring, z_hat)"
   ]
  },
  {
   "cell_type": "code",
   "execution_count": 38,
   "id": "a49c2bb6",
   "metadata": {
    "ExecuteTime": {
     "end_time": "2023-03-09T22:44:37.184121Z",
     "start_time": "2023-03-09T22:44:37.181584Z"
    }
   },
   "outputs": [],
   "source": [
    "delta_x_0, delta_x_1, delta_y_0, delta_y_1, delta_xy_0, delta_xy_1, r_theta_0, r_theta_1, k0, k1 = funshade_setup(128, 16)"
   ]
  },
  {
   "cell_type": "code",
   "execution_count": 39,
   "id": "2677d070",
   "metadata": {
    "ExecuteTime": {
     "end_time": "2023-03-09T22:44:38.350396Z",
     "start_time": "2023-03-09T22:44:38.347864Z"
    }
   },
   "outputs": [],
   "source": [
    "l=128\n",
    "x = np.random.randint(-2**12, 2**12, size=l, dtype=DTYPE)\n",
    "y = np.random.randint(-2**12, 2**12, size=l, dtype=DTYPE)"
   ]
  },
  {
   "cell_type": "code",
   "execution_count": 40,
   "id": "925c0425",
   "metadata": {
    "ExecuteTime": {
     "end_time": "2023-03-09T22:44:39.292677Z",
     "start_time": "2023-03-09T22:44:39.289895Z"
    }
   },
   "outputs": [
    {
     "data": {
      "text/plain": [
       "-91234443"
      ]
     },
     "execution_count": 40,
     "metadata": {},
     "output_type": "execute_result"
    }
   ],
   "source": [
    "x@y"
   ]
  },
  {
   "cell_type": "code",
   "execution_count": 41,
   "id": "29b1d1d5",
   "metadata": {
    "ExecuteTime": {
     "end_time": "2023-03-09T22:44:40.284885Z",
     "start_time": "2023-03-09T22:44:40.282789Z"
    }
   },
   "outputs": [],
   "source": [
    "Delta_x = funshade_share(x, delta_x_0+delta_x_1)\n",
    "Delta_y = funshade_share(y, delta_y_0+delta_y_1)"
   ]
  },
  {
   "cell_type": "code",
   "execution_count": 42,
   "id": "5072d2b1",
   "metadata": {
    "ExecuteTime": {
     "end_time": "2023-03-09T22:44:41.493501Z",
     "start_time": "2023-03-09T22:44:41.490724Z"
    }
   },
   "outputs": [
    {
     "data": {
      "text/plain": [
       "(7334766522998866862, 8260493431446853755)"
      ]
     },
     "execution_count": 42,
     "metadata": {},
     "output_type": "execute_result"
    }
   ],
   "source": [
    "r_theta_0, r_theta_1"
   ]
  },
  {
   "cell_type": "code",
   "execution_count": 44,
   "id": "9b582196",
   "metadata": {
    "ExecuteTime": {
     "end_time": "2023-03-09T22:45:02.417827Z",
     "start_time": "2023-03-09T22:45:02.414692Z"
    }
   },
   "outputs": [
    {
     "data": {
      "text/plain": [
       "614243369"
      ]
     },
     "execution_count": 44,
     "metadata": {},
     "output_type": "execute_result"
    }
   ],
   "source": [
    "np.int32(r_theta_0)+np.int32(r_theta_1)"
   ]
  },
  {
   "cell_type": "code",
   "execution_count": 45,
   "id": "438ccc67",
   "metadata": {
    "ExecuteTime": {
     "end_time": "2023-03-09T22:45:08.966443Z",
     "start_time": "2023-03-09T22:45:08.964016Z"
    }
   },
   "outputs": [],
   "source": [
    "z0_hat = funshade_eval_sp(0, Delta_x, Delta_y, delta_x_0, delta_y_0, delta_xy_0, r_theta_0)\n",
    "z1_hat = funshade_eval_sp(1, Delta_x, Delta_y, delta_x_1, delta_y_1, delta_xy_1, r_theta_1)"
   ]
  },
  {
   "cell_type": "code",
   "execution_count": 48,
   "id": "58ef1a0f",
   "metadata": {
    "ExecuteTime": {
     "end_time": "2023-03-09T22:45:46.720489Z",
     "start_time": "2023-03-09T22:45:46.718297Z"
    }
   },
   "outputs": [],
   "source": [
    "z_hat = np.int32(z0_hat) +np.int32(z1_hat) "
   ]
  },
  {
   "cell_type": "code",
   "execution_count": 49,
   "id": "8b5fbeb8",
   "metadata": {
    "ExecuteTime": {
     "end_time": "2023-03-09T22:45:48.139661Z",
     "start_time": "2023-03-09T22:45:48.136526Z"
    }
   },
   "outputs": [
    {
     "data": {
      "text/plain": [
       "-91234443"
      ]
     },
     "execution_count": 49,
     "metadata": {},
     "output_type": "execute_result"
    }
   ],
   "source": [
    "np.int32(z_hat) - (np.int32(r_theta_0)+np.int32(r_theta_1))"
   ]
  },
  {
   "cell_type": "code",
   "execution_count": 90,
   "id": "28f1d264",
   "metadata": {
    "ExecuteTime": {
     "end_time": "2023-03-04T20:40:30.207806Z",
     "start_time": "2023-03-04T20:40:30.205496Z"
    }
   },
   "outputs": [],
   "source": [
    "o0 = funshade_eval_sign(0, k0, z_hat)\n",
    "o1 = funshade_eval_sign(1, k1, z_hat)"
   ]
  },
  {
   "cell_type": "code",
   "execution_count": 94,
   "id": "e42355b6",
   "metadata": {
    "ExecuteTime": {
     "end_time": "2023-03-04T20:40:50.805887Z",
     "start_time": "2023-03-04T20:40:50.803009Z"
    }
   },
   "outputs": [
    {
     "data": {
      "text/plain": [
       "0"
      ]
     },
     "execution_count": 94,
     "metadata": {},
     "output_type": "execute_result"
    }
   ],
   "source": [
    "o1 + o0"
   ]
  },
  {
   "cell_type": "markdown",
   "id": "b32a84f6",
   "metadata": {},
   "source": [
    "## Timing tests"
   ]
  },
  {
   "cell_type": "code",
   "execution_count": 31,
   "id": "5b4e9ee8",
   "metadata": {
    "ExecuteTime": {
     "end_time": "2023-03-07T22:40:18.744364Z",
     "start_time": "2023-03-07T22:40:18.742233Z"
    }
   },
   "outputs": [],
   "source": [
    "import timeit\n",
    "timeit.timeit"
   ]
  },
  {
   "cell_type": "code",
   "execution_count": 42,
   "id": "52d38cf2",
   "metadata": {
    "ExecuteTime": {
     "end_time": "2023-03-07T22:55:31.506048Z",
     "start_time": "2023-03-07T22:54:47.645237Z"
    }
   },
   "outputs": [
    {
     "name": "stdout",
     "output_type": "stream",
     "text": [
      "128,3.9827146343886855e-05,1.8684956058859825e-06,1.349896714091301e-06,9.277286306023599e-06\n",
      "256,6.0250639654695985e-05,2.0422036200761793e-06,1.5889262780547143e-06,9.272344075143337e-06\n",
      "512,0.00010153724186122418,2.5422772020101545e-06,2.0289109274744986e-06,9.287703558802605e-06\n",
      "1024,0.0001822995961084962,3.1342599913477896e-06,2.950666658580303e-06,9.273839145898819e-06\n"
     ]
    }
   ],
   "source": [
    "n_times = 100000\n",
    "for l in (128, 256, 512, 1024):\n",
    "    t_setup = timeit.timeit(lambda: funshade_setup(l, 1), number=n_times)/n_times\n",
    "    delta_x_0, delta_x_1, delta_y_0, delta_y_1, delta_xy_0, delta_xy_1, r_theta_0, r_theta_1, k0, k1 = funshade_setup(l, 1)\n",
    "    x = np.random.randint(-2**12, 2**12, size=l, dtype=DTYPE)\n",
    "    y = np.random.randint(-2**12, 2**12, size=l, dtype=DTYPE)\n",
    "    Delta_x = funshade_share(x, delta_x_0+delta_x_1)\n",
    "    Delta_y = funshade_share(y, delta_y_0+delta_y_1)\n",
    "    t_share = timeit.timeit(lambda: funshade_share(x, delta_x_0+delta_x_1), number=n_times)/n_times\n",
    "    z0_hat = funshade_eval_sp(0, Delta_x, Delta_y, delta_x_0, delta_y_0, delta_xy_0, r_theta_0) \n",
    "    z1_hat = funshade_eval_sp(1, Delta_x, Delta_y, delta_x_1, delta_y_1, delta_xy_1, r_theta_1)\n",
    "    t_eval_sp = timeit.timeit(lambda: funshade_eval_sp(0, Delta_x, Delta_y, delta_x_0, delta_y_0, delta_xy_0, r_theta_0), number=n_times)/n_times\n",
    "    z_hat = np.int32(z0_hat + z1_hat)\n",
    "    o0 = funshade_eval_sign(0, k0, z_hat)\n",
    "    o1 = funshade_eval_sign(1, k1, z_hat)\n",
    "    t_eval_sign = timeit.timeit(lambda: funshade_eval_sign(0, k0, z_hat), number=n_times)/n_times\n",
    "    print(f\"{l},{t_setup},{t_share},{t_eval_sp},{t_eval_sign}\")"
   ]
  },
  {
   "cell_type": "code",
   "execution_count": 54,
   "id": "f799bf96",
   "metadata": {
    "ExecuteTime": {
     "end_time": "2023-03-07T23:03:12.467907Z",
     "start_time": "2023-03-07T23:02:47.669962Z"
    }
   },
   "outputs": [
    {
     "name": "stdout",
     "output_type": "stream",
     "text": [
      "int16\n",
      "128,2.4804158210754395e-05,1.865949109196663e-06,1.4359067007899284e-06,4.698179811239243e-06\n",
      "256,3.488733626902104e-05,1.9605836644768715e-06,1.6590922325849532e-06,4.682087861001491e-06\n",
      "512,5.574137564748526e-05,2.277829237282276e-06,2.103770524263382e-06,4.691511951386929e-06\n",
      "1024,9.664014294743538e-05,2.7539215981960295e-06,3.0082966387271883e-06,4.6931164711713795e-06\n"
     ]
    }
   ],
   "source": [
    "n_times = 100000\n",
    "print(DTYPE)\n",
    "for l in (128, 256, 512, 1024):\n",
    "    t_setup = timeit.timeit(lambda: funshade_setup(l, 1), number=n_times)/n_times\n",
    "    delta_x_0, delta_x_1, delta_y_0, delta_y_1, delta_xy_0, delta_xy_1, r_theta_0, r_theta_1, k0, k1 = funshade_setup(l, 1)\n",
    "    x = np.random.randint(-2**12, 2**12, size=l, dtype=DTYPE)\n",
    "    y = np.random.randint(-2**12, 2**12, size=l, dtype=DTYPE)\n",
    "    Delta_x = funshade_share(x, delta_x_0+delta_x_1)\n",
    "    Delta_y = funshade_share(y, delta_y_0+delta_y_1)\n",
    "    t_share = timeit.timeit(lambda: funshade_share(x, delta_x_0+delta_x_1), number=n_times)/n_times\n",
    "    z0_hat = funshade_eval_sp(0, Delta_x, Delta_y, delta_x_0, delta_y_0, delta_xy_0, r_theta_0) \n",
    "    z1_hat = funshade_eval_sp(1, Delta_x, Delta_y, delta_x_1, delta_y_1, delta_xy_1, r_theta_1)\n",
    "    t_eval_sp = timeit.timeit(lambda: funshade_eval_sp(0, Delta_x, Delta_y, delta_x_0, delta_y_0, delta_xy_0, r_theta_0), number=n_times)/n_times\n",
    "    z_hat = np.int16(z0_hat + z1_hat)\n",
    "    o0 = funshade_eval_sign(0, k0, z_hat)\n",
    "    o1 = funshade_eval_sign(1, k1, z_hat)\n",
    "    t_eval_sign = timeit.timeit(lambda: funshade_eval_sign(0, k0, z_hat), number=n_times)/n_times\n",
    "    print(f\"{l},{t_setup},{t_share},{t_eval_sp},{t_eval_sign}\")"
   ]
  },
  {
   "cell_type": "code",
   "execution_count": 57,
   "id": "8d335406",
   "metadata": {
    "ExecuteTime": {
     "end_time": "2023-03-07T23:04:24.217039Z",
     "start_time": "2023-03-07T23:04:08.865528Z"
    }
   },
   "outputs": [
    {
     "name": "stdout",
     "output_type": "stream",
     "text": [
      "int8\n",
      "128,1.8951870352029802e-05,1.8030289933085442e-06,1.3066710159182548e-06,2.4274837598204612e-06\n",
      "256,2.230082269757986e-05,1.932332888245583e-06,1.4977174252271652e-06,2.4340565875172613e-06\n",
      "512,3.305837076157331e-05,2.199627533555031e-06,1.8789692595601083e-06,2.4422499909996987e-06\n",
      "1024,5.3546695783734324e-05,2.6116602495312693e-06,2.6000332459807395e-06,2.446807660162449e-06\n"
     ]
    }
   ],
   "source": [
    "print(DTYPE)\n",
    "for l in (128, 256, 512, 1024):\n",
    "    t_setup = timeit.timeit(lambda: funshade_setup(l, 1), number=n_times)/n_times\n",
    "    delta_x_0, delta_x_1, delta_y_0, delta_y_1, delta_xy_0, delta_xy_1, r_theta_0, r_theta_1, k0, k1 = funshade_setup(l, 1)\n",
    "    x = np.random.randint(-2**5, 2**5, size=l, dtype=DTYPE)\n",
    "    y = np.random.randint(-2**5, 2**5, size=l, dtype=DTYPE)\n",
    "    Delta_x = funshade_share(x, delta_x_0+delta_x_1)\n",
    "    Delta_y = funshade_share(y, delta_y_0+delta_y_1)\n",
    "    t_share = timeit.timeit(lambda: funshade_share(x, delta_x_0+delta_x_1), number=n_times)/n_times\n",
    "    z0_hat = funshade_eval_sp(0, Delta_x, Delta_y, delta_x_0, delta_y_0, delta_xy_0, r_theta_0) \n",
    "    z1_hat = funshade_eval_sp(1, Delta_x, Delta_y, delta_x_1, delta_y_1, delta_xy_1, r_theta_1)\n",
    "    t_eval_sp = timeit.timeit(lambda: funshade_eval_sp(0, Delta_x, Delta_y, delta_x_0, delta_y_0, delta_xy_0, r_theta_0), number=n_times)/n_times\n",
    "    z_hat = np.int8(z0_hat + z1_hat)\n",
    "    o0 = funshade_eval_sign(0, k0, z_hat)\n",
    "    o1 = funshade_eval_sign(1, k1, z_hat)\n",
    "    t_eval_sign = timeit.timeit(lambda: funshade_eval_sign(0, k0, z_hat), number=n_times)/n_times\n",
    "    print(f\"{l},{t_setup},{t_share},{t_eval_sp},{t_eval_sign}\")"
   ]
  },
  {
   "cell_type": "code",
   "execution_count": 59,
   "id": "1ce9198e",
   "metadata": {
    "ExecuteTime": {
     "end_time": "2023-03-07T23:06:56.427495Z",
     "start_time": "2023-03-07T23:05:23.658527Z"
    }
   },
   "outputs": [
    {
     "name": "stdout",
     "output_type": "stream",
     "text": [
      "int64\n",
      "128,0.00012874264288693666,1.91250741481781e-06,1.3535232096910477e-06,2.493124309927225e-05\n",
      "256,0.00011721820794045925,2.1982069686055183e-06,1.5952835232019424e-06,2.4897720329463482e-05\n",
      "512,0.00019778695084154605,2.6394351944327356e-06,2.0489278808236124e-06,2.482534121721983e-05\n",
      "1024,0.00036636827912181615,3.150496259331703e-06,3.0493321269750595e-06,2.486739069223404e-05\n"
     ]
    }
   ],
   "source": [
    "print(DTYPE)\n",
    "for l in (128, 256, 512, 1024):\n",
    "    t_setup = timeit.timeit(lambda: funshade_setup(l, 1), number=n_times)/n_times\n",
    "    delta_x_0, delta_x_1, delta_y_0, delta_y_1, delta_xy_0, delta_xy_1, r_theta_0, r_theta_1, k0, k1 = funshade_setup(l, 1)\n",
    "    x = np.random.randint(-2**12, 2**12, size=l, dtype=DTYPE)\n",
    "    y = np.random.randint(-2**12, 2**12, size=l, dtype=DTYPE)\n",
    "    Delta_x = funshade_share(x, delta_x_0+delta_x_1)\n",
    "    Delta_y = funshade_share(y, delta_y_0+delta_y_1)\n",
    "    t_share = timeit.timeit(lambda: funshade_share(x, delta_x_0+delta_x_1), number=n_times)/n_times\n",
    "    z0_hat = funshade_eval_sp(0, Delta_x, Delta_y, delta_x_0, delta_y_0, delta_xy_0, r_theta_0) \n",
    "    z1_hat = funshade_eval_sp(1, Delta_x, Delta_y, delta_x_1, delta_y_1, delta_xy_1, r_theta_1)\n",
    "    t_eval_sp = timeit.timeit(lambda: funshade_eval_sp(0, Delta_x, Delta_y, delta_x_0, delta_y_0, delta_xy_0, r_theta_0), number=n_times)/n_times\n",
    "    z_hat = np.int64(z0_hat + z1_hat)\n",
    "    o0 = funshade_eval_sign(0, k0, z_hat)\n",
    "    o1 = funshade_eval_sign(1, k1, z_hat)\n",
    "    t_eval_sign = timeit.timeit(lambda: funshade_eval_sign(0, k0, z_hat), number=n_times)/n_times\n",
    "    print(f\"{l},{t_setup},{t_share},{t_eval_sp},{t_eval_sign}\")"
   ]
  },
  {
   "cell_type": "markdown",
   "id": "b1d6aec9",
   "metadata": {},
   "source": [
    "## Identification tests"
   ]
  },
  {
   "cell_type": "code",
   "execution_count": 17,
   "id": "87b136d2",
   "metadata": {
    "ExecuteTime": {
     "end_time": "2023-03-09T15:37:25.075120Z",
     "start_time": "2023-03-09T15:37:17.087295Z"
    }
   },
   "outputs": [],
   "source": [
    "%%cython -c=-O3 -c=-maes -c=-msse -c=-msse2 -c=-DDTYPE_t=int32_t -c=-DUSE_LIBSODIUM -I fss -S fss/aes.c -S fss/fss.c -lsodium -c=-DNPY_NO_DEPRECATED_API=NPY_1_7_API_VERSION\n",
    "# cython: boundscheck=False, wraparound=False, initializedcheck=False, nonecheck=False, embedsignature=True\n",
    "cimport numpy as np\n",
    "import numpy as np\n",
    "cimport cython\n",
    "\n",
    "# from libc.string cimport memcpy, memset\n",
    "from libcpp cimport bool\n",
    "\n",
    "from libc.stdint cimport uint8_t\n",
    "from libc.stdlib cimport malloc, free\n",
    "\n",
    "cdef extern from \"fss.h\" nogil:\n",
    "    ctypedef int DTYPE_t\n",
    "    const size_t KEY_LEN\n",
    "    DTYPE_t random_dtype()\n",
    "    void random_buffer(uint8_t buffer[], size_t buffer_len)\n",
    "    void SIGN_gen(DTYPE_t r_in, DTYPE_t r_out, uint8_t k0[KEY_LEN], uint8_t k1[KEY_LEN])\n",
    "    DTYPE_t SIGN_eval(bool b, uint8_t kb[KEY_LEN], DTYPE_t x_hat)\n",
    "\n",
    "# build the corresponding numpy dtype for DTYPE_t\n",
    "cdef DTYPE_t tmp\n",
    "DTYPE = np.asarray(<DTYPE_t[:1]>(&tmp)).dtype\n",
    "\n",
    "cdef class funshade_key:\n",
    "    cdef uint8_t* keystring\n",
    "    cdef size_t n_keys\n",
    "    def __cinit__(self, size_t n_keys=1):\n",
    "        assert n_keys>=1, \"k must be a positive number\"\n",
    "        self.n_keys = n_keys\n",
    "        self.keystring = <uint8_t*> malloc(n_keys*KEY_LEN*sizeof(uint8_t))\n",
    "    def __init__(self, size_t n_keys=1):\n",
    "        if not self.keystring:     raise MemoryError()\n",
    "    def __dealloc__(self):\n",
    "        if (self.keystring!=NULL): free(self.keystring)\n",
    "\n",
    "    # ------------------------- PYTHON LEVEL PROPERTIES -------------------- #\n",
    "    @property\n",
    "    def array(self):\n",
    "        return np.asarray(<uint8_t[:(self.n_keys*KEY_LEN)]>self.keystring)\n",
    "    @property\n",
    "    def dtype(self):\n",
    "        return DTYPE\n",
    "    def __len__(self):\n",
    "        return KEY_LEN*self.n_keys\n",
    "    def __repr__(self):\n",
    "        return \"<funshade key: 0x{}..., size={}B, ring={}>\".format(\n",
    "            self.array[:10].tobytes().hex(), len(self), self.dtype)\n",
    "    \n",
    "def funshade_setup(size_t l, size_t n_samples, DTYPE_t theta):\n",
    "    # Beaver Triples for Pi-sharing scalar product\n",
    "    cdef np.ndarray[DTYPE_t, ndim=1] delta_x_0 = np.empty(shape=(n_samples*l), dtype=DTYPE),\\\n",
    "            delta_x_1 = np.empty((n_samples*l), DTYPE), delta_y_0 = np.empty((n_samples*l), DTYPE),\\\n",
    "            delta_y_1 = np.empty((n_samples*l), DTYPE),delta_xy_0 = np.empty((n_samples*l), DTYPE)\n",
    "    random_buffer(<uint8_t*>delta_x_0.data, n_samples*l*sizeof(DTYPE_t))\n",
    "    random_buffer(<uint8_t*>delta_x_1.data, n_samples*l*sizeof(DTYPE_t))\n",
    "    random_buffer(<uint8_t*>delta_y_0.data, n_samples*l*sizeof(DTYPE_t))\n",
    "    random_buffer(<uint8_t*>delta_y_1.data, n_samples*l*sizeof(DTYPE_t))\n",
    "    random_buffer(<uint8_t*>delta_xy_0.data, n_samples*l*sizeof(DTYPE_t))\n",
    "    cdef np.ndarray[DTYPE_t, ndim=1] delta_xy_1 = \\\n",
    "            (delta_x_0+delta_x_1) * (delta_y_0+delta_y_1) - delta_xy_0\n",
    "    \n",
    "    # FSS interval containment\n",
    "    cdef np.ndarray[DTYPE_t, ndim=1] r_0 = np.empty(shape=(n_samples), dtype=DTYPE)\n",
    "    cdef np.ndarray[DTYPE_t, ndim=1] r_1 = np.empty(shape=(n_samples), dtype=DTYPE)\n",
    "    random_buffer(<uint8_t*>r_0.data, n_samples*sizeof(DTYPE_t))\n",
    "    random_buffer(<uint8_t*>r_1.data, n_samples*sizeof(DTYPE_t))\n",
    "    cdef np.ndarray[DTYPE_t, ndim=1] r = r_0 + r_1\n",
    "    # cdef DTYPE_t r_theta_0 = r_0\n",
    "    cdef np.ndarray[DTYPE_t, ndim=1] r_theta_1 = r_1 - theta\n",
    "    \n",
    "    \n",
    "    cdef funshade_key k0 = funshade_key(n_keys=n_samples), k1 = funshade_key(n_keys=n_samples)\n",
    "    cdef size_t i\n",
    "    for i in range(n_samples):\n",
    "        SIGN_gen(r[i], 0, &k0.keystring[i*KEY_LEN], &k1.keystring[i*KEY_LEN])\n",
    "    \n",
    "    return delta_x_0, delta_x_1, delta_y_0, delta_y_1, delta_xy_0, delta_xy_1, r_0, r_theta_1, k0, k1\n",
    "\n",
    "\n",
    "cpdef np.ndarray[DTYPE_t, ndim=1] funshade_share_id(DTYPE_t[:] v, DTYPE_t[:] delta_v):\n",
    "    cdef size_t i, l_v = v.shape[0], l = delta_v.shape[0], \n",
    "    cdef np.ndarray[DTYPE_t, ndim=1] Delta_v = np.empty(shape=(l), dtype=DTYPE)\n",
    "    # Compute local share of [Δz]\n",
    "    for i in range(l):\n",
    "        Delta_v[i] = delta_v[i] - v[i%l_v]\n",
    "    return Delta_v\n",
    "\n",
    "cpdef DTYPE_t funshade_eval_sp_id(bool j, DTYPE_t[:] Delta_x, DTYPE_t[:] Delta_y,\n",
    "                         DTYPE_t[:] delta_x_j, DTYPE_t[:] delta_y_j, \n",
    "                         DTYPE_t[:] delta_xy_j, DTYPE_t[:] delta_z_j):\n",
    "    cdef size_t l = Delta_y.shape[0], n_samples = delta_z_j.shape[0], i\n",
    "    cdef  np.ndarray[DTYPE_t, ndim=1] Delta_z = delta_z_j\n",
    "    # Compute local share of [Δz]\n",
    "    for i in range(l):\n",
    "        Delta_z[i//n_samples] += j*Delta_x[i]*Delta_y[i] - Delta_x[i]*delta_y_j[i]\\\n",
    "                           + delta_xy_j[i] - Delta_y[i]*delta_x_j[i]\n",
    "    return Delta_z\n",
    "\n",
    "cpdef DTYPE_t funshade_eval_sign_id(bool j, funshade_key kj, DTYPE_t z_hat):\n",
    "    return SIGN_eval(j, kj.keystring, z_hat)"
   ]
  },
  {
   "cell_type": "code",
   "execution_count": 16,
   "id": "26e0af1e",
   "metadata": {
    "ExecuteTime": {
     "end_time": "2023-03-09T15:02:04.660542Z",
     "start_time": "2023-03-09T15:02:04.619059Z"
    }
   },
   "outputs": [
    {
     "data": {
      "text/plain": [
       "(array([ -299377626,   705646975,  -412055555, ...,  2057388159,\n",
       "         1784328559, -2029459518], dtype=int32),\n",
       " array([ 1996979530,   598067285, -1345463155, ..., -1840846357,\n",
       "          528066269,  -319301530], dtype=int32),\n",
       " array([  804437258,  -366834842, -1391689589, ..., -1226222077,\n",
       "        -1863016688,   326125514], dtype=int32),\n",
       " array([ -469522801, -1502019620,   254534273, ...,  1300917337,\n",
       "          948556520,   263600892], dtype=int32),\n",
       " array([-1367018111, -1218999724,  1615841848, ...,   833200001,\n",
       "          672838885,  1819665354], dtype=int32),\n",
       " array([ 1543360111, -1984218540,   766396992, ...,   394785431,\n",
       "          972841147, -1415378138], dtype=int32),\n",
       " array([-1696105060,  -907612242,  -694565519, -1632823259,  1179327115,\n",
       "        -1858565132,   341285350, -1042816587,  1867417555,   789400221,\n",
       "        -1196532737,  -240444355, -1429051645, -1591848541,  -962146675,\n",
       "         -537332015,   801571808,  1105236659,  1537818966,  -498151131,\n",
       "        -1154773976,  1209050570,  1227680271, -1747428227,  1184600163,\n",
       "          316910835,   908598379,   889065935,  1166032359,  -306672297,\n",
       "         -369107937, -1280775610, -1097152374,  -622549283, -1975476468,\n",
       "          988201923, -1885482515, -1384894693,   995287575,  -301808316,\n",
       "         1538741181, -1637461225, -1015308526, -1397888509,  -746233477,\n",
       "          -81744490, -1427113280, -1362572962,  1786877402, -1661708815,\n",
       "          114697919,  1954663659,  -327084824, -1665036766,   960489244,\n",
       "         1524043871,   834881953,   724782915,   501430638,  -502706984,\n",
       "          541947361,  -600271802,   874435562, -2128234443,  -986284466,\n",
       "        -1850559744,   973945150,     -168307,  1967604021,   947675519,\n",
       "         -604770485,    88147429, -1245780185,  1104620121,  -683305033,\n",
       "         1635769263,   208988584,   556505515,  -943830670, -1844435522,\n",
       "          458512577,  1567636583,   102364003,  -812100258, -1449706727,\n",
       "         -754495188, -1704366668,  -430594496,   859090622,   118978040,\n",
       "        -1401542888,   637120122, -1778071158, -1757049373,  -438426372,\n",
       "         1252693017, -1742970138,  1571873921,   484877692,  -378872567,\n",
       "         1349127865,  -710303970,  1453475319, -2134608423,  -200841628,\n",
       "         1354254247,  1427958396,  -227595087, -1791783595,   -45691761,\n",
       "         1457015197,   836181755,  -120841366, -1114918061, -1898524048,\n",
       "         1361579341,   617069998,  1715843714,  1451271040,   -17093421,\n",
       "          600593525,   559038652, -1813946916,  -503693660, -1479639441,\n",
       "        -1430473893,  -811991838,    54111441,  1496778973, -1613700052,\n",
       "          -97453246,   543658599,   200215019,   528161256,    93141096,\n",
       "          672155734,  1634814817,   584811509,  -512280162, -1665350212,\n",
       "        -2024476514,   705098188, -1830679687,  1954263523,  1942981290,\n",
       "         -989533653,  -459466483,   481422694,   -60628218,  -819470677,\n",
       "          612368083,  -594514988,  2051486800,   658446077,  -456087567,\n",
       "         1738285847,  2097482264,    -3269182,  -800352050, -1606765823,\n",
       "         -912783121,  1755193081,   915085073,  -390092618,  -937452025,\n",
       "          502493299, -1799670434,  1671803678,  1672892891, -1785409090,\n",
       "        -1135377688,  1132726817,  1483776726,  -310119939,  -951492712,\n",
       "         -696474726, -1540183224,   987989269,  1127883272,  -763836840,\n",
       "         1319572021, -1682147288,  1900614182,  -866728585,  1914355490,\n",
       "         1274074002,  1575800507,  -833427718,   548224290, -2019427556,\n",
       "         -962581449,  1878644130,    24349985, -1749450223, -1333209772,\n",
       "        -1641419819,  1170620551,  -600431249, -1133695295,  1298693680,\n",
       "         1049390336, -1379455216,  -941497643, -2058419529,  -310461882,\n",
       "         2076699506,  -503509052, -1420125631, -1313820911,    63825328,\n",
       "        -2037124632,  1748750966,  1181389944, -1348124612,    98884041,\n",
       "         -130654106,  -892780385, -1609265444,   619169935, -1007457456,\n",
       "        -1348898557, -1968581999, -1360285472,  1204773255,  1261900300,\n",
       "        -1090925386,   639078636,  -976707568,  1135117518,  1863109969,\n",
       "        -1599387877, -1453701624,   765301013,   -47512602,   559598470,\n",
       "         -518282336,  1807654798, -1699337265,   878641612,  1520339864,\n",
       "        -1629638101, -2109410614,  1842437525,  -176972440,  -224498553,\n",
       "        -2120716012,    51576171,  1865262333,  1929610236,  -994948531,\n",
       "          682384976,   488098377, -1347668732, -1045417385, -1784442424,\n",
       "          780100766, -2053326205,    75645684,  2020940705,  1110386695,\n",
       "        -1872181233,  1147127241,  -918455004, -2053440778, -2031423461,\n",
       "          -67237223,  -269593462, -1090895563, -1620083627,   718314490,\n",
       "        -1709489205, -1453137549,   968529857,   227613445,   579949205,\n",
       "        -1983829511, -1449825944, -1785650143,   944924874,   625779859,\n",
       "         -939203877,  2098430895,   372212708,   604726993, -1164555024,\n",
       "          458790958,  1461969700,   127226594,  -594907250,  1609784849,\n",
       "         -613596989,  -933120228, -1013984973,   -64116626,  -931132564,\n",
       "         -733466068,   246600688,  -126922293, -1176813778,  1892982944,\n",
       "         -689698298,  1406838251,  -384996165,  -923577609,   650271248,\n",
       "         1793154459,  -155629337,  -307675478,   408003588,  1241565638,\n",
       "        -1171961152, -1514609186,  1093723286, -1476002592,   416913117,\n",
       "          969755665, -2090893401,  1738633090,   241437833, -1662274807,\n",
       "         -669637822,  1370541988,   103151896,  -544221543,  1147935629,\n",
       "         1738601309,  1165607194,   838686880,  1536951365,  -666939274,\n",
       "        -1747921010,  1482536317,  -102722706,  1957343977,   -35807676,\n",
       "           72805806,  1701004529, -1748049928,   855149590, -1891622668,\n",
       "         -669701172,   645786286,   956747419,  -221229736, -1502990671,\n",
       "         -920265305,   273275563,  1867308102,   -22689155,   879419780,\n",
       "         -495806186,   645854521, -1765430356,  -520672197,  1858548240,\n",
       "         1099827849,  1294438985,   828566137,  -484055525,   677066813,\n",
       "          282918448,  1659438296,  -342699795,  1342287391, -1255900565,\n",
       "          -49990633,  -561556630, -2014122938,    45532292,  2072694629,\n",
       "         2096430268,   561331779, -1070619080,  -617281536,   964331960,\n",
       "          458116324, -1183942794,   990760966, -2011352336,   -64440645,\n",
       "          -42317014, -1005045287, -1103936838,   720751753, -1016962882,\n",
       "         1645724081,  1491834062,  -923540172,  1298622415,  -333180348,\n",
       "         1645603935,  1755626088,  1329616722, -2061327026, -1727878417,\n",
       "         -410489560, -1330202135,   498533244,  2100327953, -1443259761,\n",
       "         -374802374,   743796485,   462772764,  -429626360,   476518158,\n",
       "          743643571,  -165321203, -1098995656, -1502036631, -1156112833,\n",
       "          991342057, -1306378716, -1336964005,  -823657228, -1498757517,\n",
       "          624878780,  1060930830, -1466670380,   202146519,  1016668424,\n",
       "        -1789970740, -1641415723,  1772300561,   770650865,  1551558333,\n",
       "        -2125827376, -1857942365, -2054966857,   816030887, -1098755926,\n",
       "         1956505976, -2032789393, -1511771099, -1120124150,  -156711908,\n",
       "         -925762187,  1714641698,    45906608, -1454819913,   826122498,\n",
       "         1044050006,   617690279, -1447170853,  1528671002,  1117107884,\n",
       "         1488850769,  -619251433,   162489324,  -676215232, -1305967707,\n",
       "          129346572,   427583530, -1948784223,  1376909681,  -919407345,\n",
       "        -2122697550, -2079110574, -1245259242,  -251632077,   -49803553,\n",
       "         1587139102,  2061719002,  1410032903,  1054930030, -2017938027,\n",
       "        -1373023792,  -469448378, -1956833567, -1727002241,  1343125287,\n",
       "         1196633327,   613420493,  1553480058, -1533832237,   627569301,\n",
       "         -725413433,  1992820915,  -891890422,   615150357,  -821124784,\n",
       "         1158591014,  1559152727,  1705822667,   634240043,  1011266013,\n",
       "         -171827575, -1842603646,  2136192273,   242684103,   116498331,\n",
       "         -768048042, -1905422838,   225205775,   482589167,  1102872345,\n",
       "           49246956,   521923740,   -46991773,  -378772290, -1328830881,\n",
       "          145181851,    32271890,  -826355474, -1506702431,   676740659,\n",
       "         -433142834,  1373250192,  1916893200,   131060834,   200466842,\n",
       "        -1728041302,  2013893219,   674257125,  -430807929, -2135719970,\n",
       "        -2144983438,  -768006400,   638002216,   286353411,  1614141089,\n",
       "          163216030,   428570878,    71169566,  -471794454,   236243833,\n",
       "        -1315335357,   848266213, -1992086740,   259795683,  1276553227,\n",
       "         -149991210,   730210978, -1676977296, -1132082051,  -976159209,\n",
       "         -107833933, -1816565724,   306516914, -1647716686, -1306410874,\n",
       "         1155212949,   752666153, -1697107421,  1542159671,  1859267937,\n",
       "          815696971, -1436919282, -1572283142, -1543447934,  -947367099,\n",
       "         1575026312, -1165504426,  -747670284, -1964174243, -1389820194,\n",
       "         1976034173, -1698932338,    51898649,  1069618217, -1281091790,\n",
       "        -1466438497,  1109022342,  2045557250, -2002155812,  1857046072,\n",
       "        -1426132133, -1667911816,   651859349,  1241206507,    79228539,\n",
       "          786078128,  1143794253,   305590331,  2051770333,  2037975413,\n",
       "         -863150638,  -353363897,  1696231477,  -825098890,  1204685095,\n",
       "           24572195,  1051357693,   331952325,  1955862667,  1150091123,\n",
       "          236322384,  -306195525,   132832971,  -750836019,  1242591432,\n",
       "         2111074324,  1414920011,    24088269,  1168687140,  -852269945,\n",
       "         -586281340,  1948476639,  1657947163,  1876864679,  -254342832,\n",
       "        -1933032321,  1461972401,  1468898967, -1682721486,  -979739900,\n",
       "         1163317240, -1421495272, -1950723481,  1233666029,   773344689,\n",
       "         1485286263, -1728983766, -1658922518, -1630601493,  -715798845,\n",
       "         1963249521,  -263664415,  1673869298,  2044699419,  1894697849,\n",
       "         -302515177,  1895132190,  1612772176,  1990946403, -2107681260,\n",
       "         -721784771,   -23346498,  1992155245,  2142200200,  -660815403,\n",
       "         1290672132, -1495561324,   224852327,  1303573422,   -49698684,\n",
       "        -1131685787,   422141084,  -400724072, -1817124481,   112431832,\n",
       "        -1232414942,  -251900543, -1763242752,   257453396, -1411445321,\n",
       "         2012358696,  -185725567, -1664426241, -1753794566,  -447541178,\n",
       "        -1596300703,  -378774680,   371661906,   897798952, -1286133359,\n",
       "         -235944277,  1802575549,   182778709,  -743293005,   523023070,\n",
       "          -58553886,  1891971301, -1452944421,  -218857078,  -911932403,\n",
       "          732642994, -1536144942,   778327252,  -910988158, -2070890787,\n",
       "         -938430568, -1887048438, -2078424131, -1401335347,  1081315983,\n",
       "         1114470786,  -166567261,  1789625556,   254520306,   158487026,\n",
       "         1221858486,  -328721255,  -829596945,  -632633718, -1761816056,\n",
       "         1681739060,   200548038, -1115971230,  2067611604, -1961159858,\n",
       "         -582563437, -1119656570, -1581715457,    16177920,  -719143498,\n",
       "        -1925731955,   754147190,  1966024442,  1633066404,   219243027,\n",
       "        -1126537898,   955518248,  -574302532,   259513490, -1148341944,\n",
       "         1881473891,   905426188, -1071208560,  1262410985,  2039681914,\n",
       "         -436751574,  1312417703,  -138859673,   685048402,  -661164006,\n",
       "          -27420400,  -772781118,   547848857,   936383018,  1349686782,\n",
       "         -452039523,  1825694109,   205028109,  -561511106,  -234604143,\n",
       "         -488095360,  -692426850, -1594543397,  -648696144,  -653993044,\n",
       "          564738278,   821005909,  -206677290,  -828060502,   501779278,\n",
       "         -772985089,  1656478507,  -787645184, -1654248965, -1029768348,\n",
       "         -377176952,   970968902,    23831438,  -374748985,  1320645862,\n",
       "          210799638,   831482490, -1210727125,  1526037665,   555458656,\n",
       "          235807294,  -543372252,  -679282875,  1210894069,  1450457760,\n",
       "        -1909209525,   893167094,   988194435, -1373333052, -1101503800,\n",
       "          793315528,   760996123,  -840821129,  -601650533, -1058680066,\n",
       "          214507915,  -775830804,  -959300886,   223759358,  1569737826,\n",
       "         -450150588,   356636476,   848770737,   394175324,   502427283,\n",
       "         1192101694,   155063034, -1387615029, -1035435574, -1447624587,\n",
       "          176108086, -2147276232,  -285810600,   147147862,  -154923941,\n",
       "        -1841942030,  -119794232,  1850429217,  -964690718,   141244788,\n",
       "         -467053109,   958911865, -1725057108, -1497385444, -1111542139,\n",
       "         -817201781,  -867347365,  1682832721,   -91384592,   202725308,\n",
       "          325416243,  -883376746, -1928231941, -1381603568,  -558303237,\n",
       "         1094308601, -1712123025, -1295208168, -1364446094,  -253129801,\n",
       "        -2110772452,   -34694534, -1229017289,  1103488104,   644755894,\n",
       "        -1511334968, -1553879478,  2096266137, -1994298515,  -712367872,\n",
       "          286638709,   764384331,  1520194478,  -788329872, -1782984888,\n",
       "         -905154157,    42843170,  1483354114, -1138072438,  1884974733,\n",
       "          114841172,  -318705540,  -109816793,  1910031704, -1368477286,\n",
       "        -1454963405,  1403969362, -1619265359,   298688159,   212172342,\n",
       "        -1556138860,  1934787274,  1282369212, -1808606687,  -914062279,\n",
       "          843850248,  1608957146,  1043175165,  1125648571,  1334877089,\n",
       "          607375126, -1410826378,  1316091014,  -916973434,  -993489309,\n",
       "         -224354171,  -158845583,   -55800380, -1977375235,  1931418349,\n",
       "         -636140865,   240986621, -2089180297,    96055705, -1432122398,\n",
       "        -1526484715, -1165412281,  -435648628,  2114570556, -1193861318,\n",
       "         1281138453,   151416574, -1201133503,   567239191,  -209252258,\n",
       "         -506899069, -1571387814,  1031866811,   686327044,    84372604,\n",
       "          -24629480, -1525412479,  2135832068,   256583362, -2105959414,\n",
       "        -1790089801,  1077032970,  1427518447, -1952579277,  2078653554,\n",
       "        -1588703790,   -17532380, -2039877908, -1693479844,  1415621612,\n",
       "         -905491591,  -800783348,  1538171721, -1726604312, -2005010128,\n",
       "         1219531295,   216552832, -1423474951, -1202939999,   645031688,\n",
       "         -417767779,  1128507452,  1483375875,   150312948,   171628826,\n",
       "         -808912486,  -682222524,  2127818116,   346168146,   687303583,\n",
       "        -1772657935, -1581065364,   895427275, -1255958980, -2132544801,\n",
       "         1366929660, -1705989265,  -773896201, -1319424843,   753631851,\n",
       "          105821532, -1238437182,  2000059698,  -299458266,   167331788,\n",
       "         -156399802,  -912779936,  -120867449, -1903791158,  2093207482,\n",
       "        -1808256772,  -262898278,  2134169413,  2047119499,   673863216,\n",
       "         1980952713,  -675235818,   -49674959,  -437874867, -1184012139,\n",
       "         1314764079,  1844279743,  1152443673, -1959708807,  1187870085,\n",
       "        -1277135684, -1693505432,  -260716221,   118342692,  1448171398,\n",
       "          104719428, -2006235218,  1157426633,   458735638,   699126210,\n",
       "        -1457452985,  -403734692,   499117030,  -496118896, -1624546210,\n",
       "          -39773462,  1507073712,  1492399468,  1101328130,  1305695196,\n",
       "        -1659644506,  -184788722, -1281439004,  -324890107,  -173505053,\n",
       "        -1401275693,  -598996489,  -212692555, -1318293496, -1355244481,\n",
       "         1835035125,  -740089708,   174708298,  1971986042,  -520021732,\n",
       "         1700979426,   428157816, -1913959595,   274925851, -1700099722,\n",
       "         1975498816,  1128971020,  1219012628,  -398643772,   720226008,\n",
       "          944296137,  1542100995, -2041518777, -1304271814, -1860004192],\n",
       "       dtype=int32),\n",
       " array([ -222528109, -1529183330,   966984564,  1736247346,  1035310467,\n",
       "           -4594598,   409438190,   980253824,  1252578907,  -834304030,\n",
       "        -1262144085,  -274602574,  1240043989,  1493319403,  2083413601,\n",
       "          317480905,  -505660961,   622519551,  -192623708, -1225078719,\n",
       "          530827747,  -706116351,   -64957551,   330477116,   959407590,\n",
       "          697081459,  1023751428,  1477140748, -1431960661,  1922585990,\n",
       "        -1185737571,  -315268989,  1532648317,   921361411,  2088365996,\n",
       "         1905721237, -1786238240,  -799412771,  1025539431,   -14160693,\n",
       "         -363595976,   236203795,    61148110,  -319422482,  -943890493,\n",
       "         1277046788,  -377280031,  1665334805,   260661755,  1053047060,\n",
       "         1083112872,   616110829,  -417089882,   369415739,   798865327,\n",
       "          686659986,  1741716295,   523869129,  1495510888, -1799235899,\n",
       "         -544322748,  -215067037, -1381366595,   151666687, -2037153238,\n",
       "        -1213232981,    18562031, -1505878077,   401940312,   814109312,\n",
       "        -1288682290,   607719223,  -860332104,    60677011,  -657192542,\n",
       "        -1409345120,  1465864356, -1173315980, -1912637649,   333892402,\n",
       "         -444707876,  2012705728,  -539568273,  -739625948,  -487954490,\n",
       "        -1875114062,  1256771050,  -724634374,  1776139974, -1610936149,\n",
       "        -1988573602,  1183614582,   603684988,  1165620067, -2102393042,\n",
       "         1622331836,  1513325437,  -661376726,   950656694,  -719126443,\n",
       "         1768023226,   208779903,   834404916, -1699305894,   677508305,\n",
       "         1219279655,  1318358760, -1994486710,  1481133288,   571595454,\n",
       "        -1562330263,  1975270065, -1086882285,  -928797091,  1514707266,\n",
       "         2100677806,   271853181, -1336560008, -1892958296,   973237354,\n",
       "          534430205,  -992525578,   818310225, -1878601285,  1473476121,\n",
       "         1080014701, -1479973167,  1906434476,   752047846, -1691231462,\n",
       "         -426263328,    84935978, -1249489387,   -30449547,   800174876,\n",
       "         -420882795,   492123989,  1499714721,  1905355958,  1336180694,\n",
       "         -101619699, -1120317335, -1968879180,  1287721635, -2138223091,\n",
       "         1788735230,  -858892722,   978787733,  1207712584,  -271766450,\n",
       "         1358450514,   226450666, -1846111513,  -194768318,   555210036,\n",
       "          -77378858, -1842385237,  1992969866,  1542720355, -1302711704,\n",
       "          178120137,   456630253,   891537488,   410975584,  -280175259,\n",
       "        -1238093866,   976337605,  -333718894, -1881594057,  -680254740,\n",
       "          252796763, -1726167380, -1599958728, -1157687671, -1424700836,\n",
       "          455205711,  1398883014,  1069716195, -1736645743,  1524160640,\n",
       "          -87327284, -1899476570,  -111115359,   633877560,   198999646,\n",
       "            3254620, -2121595957,   812703506,  -415358749,  -372111251,\n",
       "        -1825587246, -1168751808, -2082912240,   255993681,   788375102,\n",
       "          263614244, -1451071017, -1799123334,  1331902924, -1684935556,\n",
       "          867873399,   113223049, -1594655691,  -406891334,  1836124768,\n",
       "          175513898, -1653392812,   954738315,  1874994282, -1383047931,\n",
       "         -580546572, -1044553938,  -669224471, -1739364730,   599527363,\n",
       "         1027423012,  -352459950, -1623476770,   886000718,   898901717,\n",
       "         -504750449,    86882588, -1831777989, -2061244325, -1452054746,\n",
       "         -887200323, -1993827945,  1103939696,   273107916,   177014666,\n",
       "         -477679739, -1713298929,  -633885429,  -140127328,   882789713,\n",
       "        -1639991352, -1670481167,   298044684, -1308599217,   796226904,\n",
       "          -63422121,   251635061,   666205234, -1640256417, -1616487124,\n",
       "           40723744,  1419833489,   653741743,  -982978843,   937340717,\n",
       "         1259123677, -2033343731, -2066375918,  2085640030, -1705188475,\n",
       "         1435109744, -1385425157,     4901521,   439264112,   -14826361,\n",
       "          910976802,   206970791,   918602801,  1730192504,  1792921692,\n",
       "         -284294450,  -620092617,   806211493, -1716574357,   339476324,\n",
       "         -973455427,   813950158,   861038500,   159803301,   677777663,\n",
       "         1862526253, -2030804758,  1478646897,  1743589548,   -54484063,\n",
       "        -1142394407,  1350104249,   144292314,  -643522879,  -996397126,\n",
       "          392665612,   855868471,    47564150,  1802087833,   828948978,\n",
       "          476255965, -1673715768, -1331027911, -1069811884,  -560342543,\n",
       "         -851496531,  -992227264,  1331261864,  -642391644,  -613961228,\n",
       "        -1032548615,    21957523,  1836707342,  -403637877,  -519135133,\n",
       "        -1112092800, -1621851360,   171484995,  -644078113,  1773942687,\n",
       "        -1399356559, -1916236127,  2112440546,  -389351185, -1595924145,\n",
       "          797004398,  1166161703,  2050706152,    94200048, -1231944104,\n",
       "         -951849541,  1110302697,  -726511141, -1524867263,   668422052,\n",
       "        -1587029586,  -856638584,  1449609911,  1194879201,  -159739303,\n",
       "        -1182506666,   694328738,   671708044,  -937044175,  1258551606,\n",
       "         -683579670,  1531694360,  1659881633,   160209010,   406016107,\n",
       "         2007396284,  -516548780,   693704608,  1710134247,  -845497025,\n",
       "         1313448947,   937673361, -1318240935,  -596924139,   -35182217,\n",
       "        -1374787162,  -381892217,   205163623, -1367141114,   957831743,\n",
       "         1161881463,  -198250267,  -492395001,  1891279067,  1967528597,\n",
       "         1853274944,  -333812440,   257697401,  1430277026,   474862546,\n",
       "          593620334,  1020425151,  1755036521,  1371903396, -1892963341,\n",
       "         2052179016, -1451484398,  1342253178,  -955379096,  -131236685,\n",
       "        -1770903906, -1170650307,   885129304, -2067525645,  1105065215,\n",
       "          -56754706, -2049234928,  -158824383, -1564512482,  -870765573,\n",
       "          352104497,   -87312141,  1488269106, -1563491839, -1283863077,\n",
       "         -755841294, -1733116940,  -598161934,   417126358,   490515452,\n",
       "          762724666, -1149019613,  1077202393,   619238229,   738908486,\n",
       "          371391683,  -656871014,   666213573,  1032117639,  1114015952,\n",
       "        -1157567229,  1837065659,    59661241,  1561833537,  1676998943,\n",
       "         1757420635, -1391797291,  1230734039,  -722934618,  -985327278,\n",
       "         -659385711,  -264597057, -1690843096, -1796071061, -1206745647,\n",
       "         1000047314, -1772223796, -1375170996,  1250799297,   362555970,\n",
       "        -1113047182,  1826982945, -1611808515,  1745393106,  1783995096,\n",
       "          744828493,  1284520821,   729844514, -1198199859,  1928642658,\n",
       "         -260528757,  -845749779,  1225379091, -1818273446,  -790679313,\n",
       "          231943588,  1158366037,   207369342,   864245909,  2047346810,\n",
       "         -899788148,   793733263,  1694277726,  1216085796,  1052249926,\n",
       "        -1249081134,  2034806974,   554812624,  1274489691,  -810734376,\n",
       "         -711173302, -1263693040, -1671774438,   679773037,  1606358851,\n",
       "         -307105321,   960240228, -1586795525,  1660494446, -1437071809,\n",
       "        -1822635409,  1667753307, -1983602660,   882518230, -1132055066,\n",
       "         1413939049,  1355490697, -1869485726, -1072735000,  -356421266,\n",
       "         -909410055, -1188050561,  -168985559,    97374153,  1670178478,\n",
       "        -1641774110, -1307804202, -1406329883,  -148946537, -1853719588,\n",
       "         -389117096,  1038846058,  1450249923, -2048685031,  1821346610,\n",
       "        -1018726146, -1376218449,  1109022421,  -465048045,    29292695,\n",
       "         -477052041,  1843076216,    83140660,   480703680,  1908792186,\n",
       "         -296908650, -1436615839,   313230308,  1759199534,   144842988,\n",
       "        -1694318512,  -954299257,  -995686550,  -768597971, -1445132586,\n",
       "           46578467, -1517174048,   614460566,  1044325852,  1041332520,\n",
       "         -654832769, -2040162484,   616869071,     3262475,    59903282,\n",
       "          661014075, -1366679162,  1932007013,  -466721894, -1146904529,\n",
       "        -2031623611,  1073038383,  1915707488,  1550936981,  1834656256,\n",
       "         -776933239,  -964012354, -2069633712,  2114546952, -1920422920,\n",
       "         -800370629,  2067687786, -1192309053, -2125825314,  2000023814,\n",
       "         1343058721, -1625794181,  1831692032, -1965250588,  1942786244,\n",
       "         1871239721,  -615988052, -1918772392, -1593287665,  -214703394,\n",
       "        -1642769169,  1891430500, -1009772640,  1558406171,  1740029100,\n",
       "         -799771954,   273570985,  -769967358,  -462039637, -2054099649,\n",
       "         1465976862,   602731577,  1038881081,  -102280349, -1159756023,\n",
       "          656110016, -1770421691,  -927367538, -1515533414, -1147197968,\n",
       "         -983051823,  1746120538,  2057408981,  -132376646, -1829224691,\n",
       "         -242482821,  1801378794, -1392491822,   100038173,   552183111,\n",
       "         1103346125, -2137857598, -1290004837,  2001079441,   914697063,\n",
       "         1798600087,  -535371384,  1021785367,  -158669970,     8903077,\n",
       "         -691520695,  1132649045, -2109696978,  1080611762,  1308195708,\n",
       "        -1204268046,  1944284136,  -960873347,  1681214758,  1115636608,\n",
       "           57116410, -1333074659,  1329826090,   442115198,  1783218882,\n",
       "         2022715150,  1215089387,  1525075938,  1102780140,   979696394,\n",
       "         1758104058, -1876688779,  -634855470,  -150341586, -1021412453,\n",
       "          199195196, -1478550044,  1610211715,   -89454581,  1252886012,\n",
       "         -986008656,   111620243,  -291515501,  -381351387,  1241425701,\n",
       "         -831264432, -2115182276, -1988497481, -1676611921,  -261637151,\n",
       "         -478253647, -1815154624,  1804483980, -1392185455,  2046210589,\n",
       "        -1986615509, -1264540874,  1356692973, -1879002140,   -28692757,\n",
       "        -1616221735,  1009457392,  1098524584,  1187437845,  1884833081,\n",
       "        -1132137502, -1765970071,   787526890,  2141760634,  1019905214,\n",
       "        -1230552050, -1328498284, -2077712042,   638344203,  1779106352,\n",
       "           33537733,  1217340971,   247301914,  1840974517, -1903834297,\n",
       "         1745610382,  1019764839, -1830735725,  -392353502,  1827760253,\n",
       "         1320383051,   761441863,   438298970,  1084972998,  -136424562,\n",
       "         -266131433,  1052529795,   144669296,  1375908053, -1941973166,\n",
       "        -1375507571,  1374280262,  -845650273,  2031783746,   735582810,\n",
       "          239487654,   356643334, -2058024267, -1074828171, -1619259271,\n",
       "         2039426852, -1902114618, -1876178261,  1019892752,  2100208772,\n",
       "        -2039072957,  1524748436,   274167175,  -387948880, -2069047656,\n",
       "         -226412186,  -412678348, -1842741360, -1451371513,  1968281122,\n",
       "         -897320287,   565889500, -1558068637,  1741146962,   454387391,\n",
       "        -1039356536,  -650611989,  1638058405,  1992220249,  2066064437,\n",
       "         2064534266,   455965295,  2096743962, -1613746147,  -832407122,\n",
       "         -765602115, -1318060308,   153486287, -1499973335,  -171653400,\n",
       "         1620880906,  1640762226,  1437722986, -1336632683,   557924681,\n",
       "        -1435941261,  1567171794,  -894421486,  1355963204,   965192211,\n",
       "        -1724445649,  1065174369,  -196667953,  -823199254,    22543707,\n",
       "         1956140159,   433308088,  -200018872, -1914317522,   995264108,\n",
       "        -1338100682, -1100751310,  2130152242,   241899464,  -856247838,\n",
       "          192424628,  -117136997,  1447247311,  -232432171,   215425824,\n",
       "        -1083946223,   863987976,  -801864548, -1993522128,  -789512599,\n",
       "         -585420439,  1982923747,  -488164488,   871521410,  -134617784,\n",
       "        -1183597403,  -374302428, -1129701006,  -468366780,  1247169998,\n",
       "        -1942432320,  -243162459,   251684052,  -688900978,   401707029,\n",
       "         -825156619,  1722129744,  1628677234, -1077111434, -1878170356,\n",
       "        -1682286042,  -211271754,   898680853, -1857912669,  -483865866,\n",
       "         1106991481,   819536887,  1999134249,  1683267526, -1297285676,\n",
       "         -699513124,  -765249629,   975214842,  -925789049,  -213353856,\n",
       "        -1319547676,  -303539370,   821947473,   -82165782,  1398643159,\n",
       "         -990607370,  1648685980, -1709385787,  1824160303,   656281078,\n",
       "         1205555653,   576041743,  -469942626, -1102453536,  -577628063,\n",
       "          129435202,  1161124795, -1596371746,   561817455,   165869895,\n",
       "          908448949,  -925351757,   940885232,  -158673125,  1544847778,\n",
       "         2025172660,  -497569218,   757966789,  1818836227,  -952911107,\n",
       "          827247867,  -403689313,  1355745148, -1251910680,   222979949,\n",
       "          452454247, -1035763749, -1445548854, -1184732922,  1244090501,\n",
       "        -1563255894,   312319731,  2081929070,  1264485264,  1340798375,\n",
       "        -1860041537,   636118614, -1901820190,  -295826913, -2114962892,\n",
       "        -1278901124, -1290522390,  1309591512,  2134462473,   545951567,\n",
       "        -1013306992,  -575313365, -2113086752,  -227007060, -1469596756,\n",
       "         2046687330,  1365687606, -1054748140,  1544254590,  -835264038,\n",
       "         1359078200, -1801465675, -1442615926, -1756178043,   378980957,\n",
       "         1136526475,  1863777548,   857046767,  -907762815,   468630308,\n",
       "           83408198, -1899995604,  -304548453,  -627018564,  1232431775,\n",
       "          565934804,   137516929,  -513851741,  1627916352, -1821253070,\n",
       "          612158362, -1433374207,   909697273,   217830872,  -927190021,\n",
       "        -1562202866,   636628691, -1826050509,  1616319675,  1611984471,\n",
       "         1660235248,   394592376, -1348099067, -1482023474,  -638993742,\n",
       "         1266733899,  -790806188, -1985971774,  1552619269,  2013851714,\n",
       "         -915482966,  1817756236, -1269423837, -1624189266, -1783570213,\n",
       "          789634840,   407713037,  1242167389,  2082688011,   291509378,\n",
       "         -721131129,  1457356956,  -614459909, -2107458992,   -35138103,\n",
       "        -1711506414,  -647759235, -1238436643, -1976053896,  -755148129,\n",
       "         2139840915,  1462758552,  1660531905,  1708567389,  1819907422,\n",
       "         1246784231,  1459877178, -1792363596,   386751955, -1031359762,\n",
       "         -376112937,  1277329137,  1995143505,    83868108,  1183286473,\n",
       "        -1121678305,  1990940872,    -1649505,  -249432585, -1813465877,\n",
       "         -738111691, -2134333794,   678574775,  -954488492, -1147956626,\n",
       "        -1978731488, -1515182590,  -149691495, -1571020650,  1095733475,\n",
       "         -643813858,   479352732,   211185530, -1100359437,   900082408,\n",
       "           43498404,  -178184141,  -915885035,  -785537248,   657251238,\n",
       "         1816105015,  -489854980,  -714494548, -2097653261, -1744945881,\n",
       "        -1375651579,  1392143771,  2108840593, -1549672972,  1727390295,\n",
       "          166173677,    75846645, -1001629745,  1649565266,  1815691468,\n",
       "          804319639,  1306227055,  -345089210,   555996150, -1541215693,\n",
       "          705180671, -1741167931,  1812002664,     8237278,  1169508118,\n",
       "         1056299636, -2060312515, -1515085847, -1352694888,  1163846946,\n",
       "         -908813810, -1427429257,    -5777003, -1935811739,  1356687351,\n",
       "         1657935489,  1776834506,  1546780705,  -865925389,  -372316540,\n",
       "         1170836343,  -292966166,  -588990783,  -895597399,  -732426105],\n",
       "       dtype=int32),\n",
       " <funshade key: 0xc9240c2caf03c36f4bda..., size=728000B, ring=int32>,\n",
       " <funshade key: 0x4330fc876983cb5e12f5..., size=728000B, ring=int32>)"
      ]
     },
     "execution_count": 16,
     "metadata": {},
     "output_type": "execute_result"
    }
   ],
   "source": [
    "funshade_setup(128, 1000, 12)"
   ]
  },
  {
   "cell_type": "code",
   "execution_count": null,
   "id": "f7bed69e",
   "metadata": {},
   "outputs": [],
   "source": [
    "print(DTYPE)\n",
    "n_times= 100000\n",
    "for l in (128, 256, 512, 1024):\n",
    "    t_setup = timeit.timeit(lambda: funshade_setup(l, 1), number=n_times)/n_times\n",
    "    delta_x_0, delta_x_1, delta_y_0, delta_y_1, delta_xy_0, delta_xy_1, r_theta_0, r_theta_1, k0, k1 = funshade_setup(l, 1)\n",
    "    x = np.random.randint(-2**12, 2**12, size=l, dtype=DTYPE)\n",
    "    y = np.random.randint(-2**12, 2**12, size=l, dtype=DTYPE)\n",
    "    Delta_x = funshade_share(x, delta_x_0+delta_x_1)\n",
    "    Delta_y = funshade_share(y, delta_y_0+delta_y_1)\n",
    "    t_share = timeit.timeit(lambda: funshade_share(x, delta_x_0+delta_x_1), number=n_times)/n_times\n",
    "    z0_hat = funshade_eval_sp(0, Delta_x, Delta_y, delta_x_0, delta_y_0, delta_xy_0, r_theta_0) \n",
    "    z1_hat = funshade_eval_sp(1, Delta_x, Delta_y, delta_x_1, delta_y_1, delta_xy_1, r_theta_1)\n",
    "    t_eval_sp = timeit.timeit(lambda: funshade_eval_sp(0, Delta_x, Delta_y, delta_x_0, delta_y_0, delta_xy_0, r_theta_0), number=n_times)/n_times\n",
    "    z_hat = np.int64(z0_hat + z1_hat)\n",
    "    o0 = funshade_eval_sign(0, k0, z_hat)\n",
    "    o1 = funshade_eval_sign(1, k1, z_hat)\n",
    "    t_eval_sign = timeit.timeit(lambda: funshade_eval_sign(0, k0, z_hat), number=n_times)/n_times\n",
    "    print(f\"{l},{t_setup},{t_share},{t_eval_sp},{t_eval_sign}\")"
   ]
  },
  {
   "cell_type": "markdown",
   "id": "10848f91",
   "metadata": {},
   "source": [
    "# Funshade: SP & FSS_sign"
   ]
  },
  {
   "cell_type": "code",
   "execution_count": 242,
   "id": "1143d29d",
   "metadata": {
    "ExecuteTime": {
     "end_time": "2022-08-18T22:27:14.354981Z",
     "start_time": "2022-08-18T22:27:14.339358Z"
    }
   },
   "outputs": [],
   "source": [
    "l         = 128\n",
    "threshold = 0.4\n",
    "\n",
    "rng = np.random.default_rng(seed=4242)\n",
    "def sample_biometric_template():\n",
    "    template = rng.exponential(size=l)   # choosing an arbitraty element distribution for the example.\n",
    "    return template / np.linalg.norm(template)\n",
    "\n",
    "# Biometric data generation\n",
    "live_template = sample_biometric_template()\n",
    "ref_template  = sample_biometric_template()\n",
    "\n",
    "# Biometric data rescaling --> Fixed-point approximation\n",
    "s = 2**12\n",
    "live_template_s = list((live_template * s).astype(int))\n",
    "ref_template_s  = list((ref_template  * s).astype(int))\n",
    "threshold_s     = int(threshold * s**2)"
   ]
  },
  {
   "cell_type": "code",
   "execution_count": 35,
   "id": "ace01127",
   "metadata": {
    "ExecuteTime": {
     "end_time": "2022-08-23T15:53:20.324185Z",
     "start_time": "2022-08-23T15:53:20.308557Z"
    }
   },
   "outputs": [],
   "source": [
    "seed = np.random.randint(2**8, size=16, dtype=np.uint8)"
   ]
  },
  {
   "cell_type": "code",
   "execution_count": null,
   "id": "a3bc50a3",
   "metadata": {},
   "outputs": [],
   "source": [
    "%%cython -+ -c=/O2 -a\n",
    "cimport numpy as np\n",
    "import numpy as np\n",
    "cimport cython\n",
    "\n",
    "from libc.string cimport memset\n",
    "\n",
    "np.import_array()\n"
   ]
  },
  {
   "cell_type": "code",
   "execution_count": null,
   "id": "e1f0eb5a",
   "metadata": {},
   "outputs": [],
   "source": [
    "Wrong! z=567957374    | z_hat=47143517     | r_in=-520813857 | theta=99294148 |z_hat_exp=-52150631 "
   ]
  },
  {
   "cell_type": "code",
   "execution_count": 91,
   "id": "26061a93",
   "metadata": {
    "ExecuteTime": {
     "end_time": "2023-03-09T23:27:06.761430Z",
     "start_time": "2023-03-09T23:27:06.759287Z"
    }
   },
   "outputs": [],
   "source": [
    "theta=np.int32(99294148)"
   ]
  },
  {
   "cell_type": "code",
   "execution_count": 94,
   "id": "4ee3ae6c",
   "metadata": {
    "ExecuteTime": {
     "end_time": "2023-03-09T23:28:04.397183Z",
     "start_time": "2023-03-09T23:28:04.394102Z"
    }
   },
   "outputs": [
    {
     "data": {
      "text/plain": [
       "-421519709"
      ]
     },
     "execution_count": 94,
     "metadata": {},
     "output_type": "execute_result"
    }
   ],
   "source": [
    "np.sum(r_in)+theta"
   ]
  },
  {
   "cell_type": "code",
   "execution_count": null,
   "id": "0f9c561c",
   "metadata": {},
   "outputs": [],
   "source": [
    "47143517"
   ]
  },
  {
   "cell_type": "code",
   "execution_count": 101,
   "id": "d93ac462",
   "metadata": {
    "ExecuteTime": {
     "end_time": "2023-03-09T23:36:31.731035Z",
     "start_time": "2023-03-09T23:36:31.727970Z"
    }
   },
   "outputs": [
    {
     "data": {
      "text/plain": [
       "47143517"
      ]
     },
     "execution_count": 101,
     "metadata": {},
     "output_type": "execute_result"
    }
   ],
   "source": [
    "x@y + np.sum(r_in)"
   ]
  },
  {
   "cell_type": "code",
   "execution_count": 74,
   "id": "21c25a78",
   "metadata": {
    "ExecuteTime": {
     "end_time": "2023-03-09T23:22:55.388084Z",
     "start_time": "2023-03-09T23:22:55.383970Z"
    }
   },
   "outputs": [],
   "source": [
    "x= np.int32([-45960336,-158798182,])\n",
    "d_x= np.int32([-1276963481,780744389,])\n",
    "d_x0= np.int32([1567945470,145062918,])\n",
    "d_x1= np.int32([1450058345,635681471,])\n",
    "D_x= np.int32([-1322923817,621946207,])\n",
    "y= np.int32([-68414990,-17215093,])\n",
    "d_y= np.int32([-1803887875,-290025441,])\n",
    "d_y0= np.int32([64448122,1122102720,])\n",
    "d_y1= np.int32([-1868335997,-1412128161,])\n",
    "D_y= np.int32([-1872302865,-307240534,])\n",
    "d_xy0= np.int32([195983585,1664694990,])\n",
    "d_xy1= np.int32([-619879446,-2076100851,])\n",
    "r_in= np.int32([-1542252855,1021438998,])"
   ]
  },
  {
   "cell_type": "code",
   "execution_count": 87,
   "id": "a3140ddf",
   "metadata": {
    "ExecuteTime": {
     "end_time": "2023-03-09T23:25:23.210198Z",
     "start_time": "2023-03-09T23:25:23.206447Z"
    }
   },
   "outputs": [
    {
     "data": {
      "text/plain": [
       "(True,)"
      ]
     },
     "execution_count": 87,
     "metadata": {},
     "output_type": "execute_result"
    }
   ],
   "source": [
    "all(d_x0 + d_x1 ==d_x, ),\\\n",
    "all(d_y0 + d_y1 ==d_y),\\\n",
    "all(x +d_x0 + d_x1 ==D_x, ),\\\n",
    "all(y +d_y0 + d_y1 ==D_y, ),\n",
    "all((d_y0 + d_y1)*(d_x0 + d_x1)-d_xy0 ==d_xy1, ),"
   ]
  },
  {
   "cell_type": "code",
   "execution_count": 73,
   "id": "3f7b00ec",
   "metadata": {
    "ExecuteTime": {
     "end_time": "2023-03-09T23:20:23.146953Z",
     "start_time": "2023-03-09T23:20:23.143693Z"
    }
   },
   "outputs": [
    {
     "data": {
      "text/plain": [
       "-220551164"
      ]
     },
     "execution_count": 73,
     "metadata": {},
     "output_type": "execute_result"
    }
   ],
   "source": [
    "np.int32(-218081136) + (np.int32(2089589666)+np.int32(-2092059694))"
   ]
  },
  {
   "cell_type": "code",
   "execution_count": 51,
   "id": "18efdf25",
   "metadata": {
    "ExecuteTime": {
     "end_time": "2023-03-09T22:54:17.958484Z",
     "start_time": "2023-03-09T22:54:17.955307Z"
    }
   },
   "outputs": [
    {
     "data": {
      "text/plain": [
       "-1803088889"
      ]
     },
     "execution_count": 51,
     "metadata": {},
     "output_type": "execute_result"
    }
   ],
   "source": [
    "np.int32(-280353669*531415269 + -385494528*-469194163)"
   ]
  }
 ],
 "metadata": {
  "celltoolbar": "Initialization Cell",
  "hide_input": false,
  "kernelspec": {
   "display_name": "Python 3 (ipykernel)",
   "language": "python",
   "name": "python3"
  },
  "language_info": {
   "codemirror_mode": {
    "name": "ipython",
    "version": 3
   },
   "file_extension": ".py",
   "mimetype": "text/x-python",
   "name": "python",
   "nbconvert_exporter": "python",
   "pygments_lexer": "ipython3",
   "version": "3.8.10"
  },
  "toc": {
   "base_numbering": 1,
   "nav_menu": {
    "height": "237.267px",
    "width": "249.3px"
   },
   "number_sections": true,
   "sideBar": true,
   "skip_h1_title": false,
   "title_cell": "Table of Contents",
   "title_sidebar": "Contents",
   "toc_cell": false,
   "toc_position": {
    "height": "100px",
    "left": "1217.53px",
    "top": "677.967px",
    "width": "310px"
   },
   "toc_section_display": true,
   "toc_window_display": false
  },
  "varInspector": {
   "cols": {
    "lenName": 16,
    "lenType": 16,
    "lenVar": 40
   },
   "kernels_config": {
    "python": {
     "delete_cmd_postfix": "",
     "delete_cmd_prefix": "del ",
     "library": "var_list.py",
     "varRefreshCmd": "print(var_dic_list())"
    },
    "r": {
     "delete_cmd_postfix": ") ",
     "delete_cmd_prefix": "rm(",
     "library": "var_list.r",
     "varRefreshCmd": "cat(var_dic_list()) "
    }
   },
   "types_to_exclude": [
    "module",
    "function",
    "builtin_function_or_method",
    "instance",
    "_Feature"
   ],
   "window_display": false
  },
  "vscode": {
   "interpreter": {
    "hash": "397704579725e15f5c7cb49fe5f0341eb7531c82d19f2c29d197e8b64ab5776b"
   }
  }
 },
 "nbformat": 4,
 "nbformat_minor": 5
}
