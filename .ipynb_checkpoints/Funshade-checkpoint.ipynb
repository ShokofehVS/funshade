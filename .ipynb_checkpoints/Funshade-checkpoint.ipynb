{
 "cells": [
  {
   "cell_type": "code",
   "execution_count": 1,
   "id": "0585fbc5",
   "metadata": {
    "ExecuteTime": {
     "end_time": "2023-03-01T19:57:51.851214Z",
     "start_time": "2023-03-01T19:57:51.778278Z"
    },
    "init_cell": true
   },
   "outputs": [],
   "source": [
    "import numpy as np"
   ]
  },
  {
   "cell_type": "code",
   "execution_count": 2,
   "id": "c12b3a57",
   "metadata": {
    "ExecuteTime": {
     "end_time": "2023-03-01T19:57:52.182792Z",
     "start_time": "2023-03-01T19:57:51.854417Z"
    },
    "init_cell": true
   },
   "outputs": [],
   "source": [
    "%load_ext cython"
   ]
  },
  {
   "cell_type": "markdown",
   "id": "51d1890b",
   "metadata": {},
   "source": [
    "# ABY2.0 Scalar Product"
   ]
  },
  {
   "cell_type": "markdown",
   "id": "f05f8fc5",
   "metadata": {},
   "source": [
    "## Implementation"
   ]
  },
  {
   "cell_type": "code",
   "execution_count": 3,
   "id": "57f2122a",
   "metadata": {
    "ExecuteTime": {
     "end_time": "2023-03-01T19:57:52.190603Z",
     "start_time": "2023-03-01T19:57:52.184212Z"
    },
    "init_cell": true
   },
   "outputs": [],
   "source": [
    "np.seterr(over='ignore') # Supress overflow warnings --> avoid warnings when modulo kicks in\n",
    "\n",
    "def SP_Setup(l: int, dtype_Z2n: type = np.uint32, seed=42):\n",
    "    # Set Ring info from dtype\n",
    "    if not np.issubdtype(dtype_Z2n, np.integer):\n",
    "        raise TypeError(\"dtype must be a numeric numpy type\")\n",
    "    Z2n_info = np.iinfo(dtype_Z2n)\n",
    "    Z2n = (Z2n_info.min, Z2n_info.max)\n",
    "    \n",
    "    # Sample correlated input shares [δx] * [δy] = [δxy] \n",
    "    rng = np.random.default_rng(seed)\n",
    "    δx0, δx1, δy0, δy1, δxy0 = \\\n",
    "        rng.integers(low=Z2n[0], high=Z2n[1], size=(5,l), dtype=dtype_Z2n)\n",
    "    δxy1 = (δx0+δx1) * (δy0+δy1) - δxy0\n",
    "    # Sample and output shares [δz]\n",
    "    δz0, δz1 = rng.integers(low=Z2n[0], high=Z2n[1], size=(2), dtype=dtype_Z2n)\n",
    "    return δx0, δx1, δy0, δy1, δxy0, δxy1, δz0, δz1\n",
    "\n",
    "def SP_Online_local(j, Δx, δx_j, Δy, δy_j, δxy_j, δz_j):\n",
    "    # Compute local share of [Δz]\n",
    "    Δz_j = np.sum((Δx*Δy if j else 0) - Δx*δy_j - Δy*δx_j + δxy_j) + δz_j\n",
    "    return Δz_j\n",
    "\n",
    "def SP_Online(Δx, δx0, δx1, Δy, δy0, δy1, δxy0, δxy1, δz0, δz1):\n",
    "    # P0\n",
    "    Δz0 = SP_Online_local(0, Δx, δx0, Δy, δy0, δxy0, δz0)\n",
    "    # P1\n",
    "    Δz1 = SP_Online_local(1, Δx, δx1, Δy, δy1, δxy1, δz1)\n",
    "    # Exchange shares and reconstruct common share Δy\n",
    "    Δz = Δz0 + Δz1\n",
    "    return Δz\n",
    "\n",
    "def share(x, δx0, δx1):\n",
    "    \"\"\"Secret Share `x`, using the precomputed δx0 and δx1 to output the common Δx share\"\"\"\n",
    "    return x+(δx0+δx1)\n",
    "\n",
    "def reconstruct(Δx, δx0, δx1):\n",
    "    \"\"\"Reconstruct secret from triangular Secret Shares \"\"\"\n",
    "    return Δx-(δx0+δx1)"
   ]
  },
  {
   "cell_type": "markdown",
   "id": "bd63de43",
   "metadata": {},
   "source": [
    "## Example"
   ]
  },
  {
   "cell_type": "code",
   "execution_count": 2,
   "id": "7f7005d6",
   "metadata": {
    "ExecuteTime": {
     "end_time": "2022-08-23T08:09:49.393382Z",
     "start_time": "2022-08-23T08:09:49.380187Z"
    }
   },
   "outputs": [],
   "source": [
    "## SETUP\n",
    "l         = 128\n",
    "dtype_Z2n = np.uint32\n",
    "δx0, δx1, δy0, δy1, δxy0, δxy1, δz0, δz1 = SP_Setup(l=128, dtype_Z2n=dtype_Z2n)"
   ]
  },
  {
   "cell_type": "code",
   "execution_count": 3,
   "id": "e1f2061d",
   "metadata": {
    "ExecuteTime": {
     "end_time": "2022-08-23T08:09:51.430647Z",
     "start_time": "2022-08-23T08:09:51.398350Z"
    }
   },
   "outputs": [],
   "source": [
    "## ONLINE\n",
    "# Data sharing\n",
    "x = np.random.randint(0, 2**12, size=l, dtype=dtype_Z2n)\n",
    "y = np.random.randint(0, 2**12, size=l, dtype=dtype_Z2n)\n",
    "Δx = share(x, δx0, δx1)\n",
    "Δy = share(y, δy0, δy1)\n",
    "\n",
    "# SP computation\n",
    "Δz = SP_Online(Δx, δx0, δx1, Δy, δy0, δy1, δxy0, δxy1, δz0, δz1)"
   ]
  },
  {
   "cell_type": "code",
   "execution_count": 4,
   "id": "e4d69b65",
   "metadata": {
    "ExecuteTime": {
     "end_time": "2022-08-23T08:09:52.892101Z",
     "start_time": "2022-08-23T08:09:52.860000Z"
    }
   },
   "outputs": [
    {
     "data": {
      "text/plain": [
       "(539056012, 539056012)"
      ]
     },
     "execution_count": 4,
     "metadata": {},
     "output_type": "execute_result"
    }
   ],
   "source": [
    "# Reconstruct and open result\n",
    "z = reconstruct(Δz, δz0, δz1)\n",
    "z, x@y"
   ]
  },
  {
   "cell_type": "markdown",
   "id": "38f98944",
   "metadata": {},
   "source": [
    "# Funshade"
   ]
  },
  {
   "cell_type": "code",
   "execution_count": 6,
   "id": "20992f47",
   "metadata": {
    "ExecuteTime": {
     "end_time": "2023-03-01T19:58:35.069366Z",
     "start_time": "2023-03-01T19:58:35.043144Z"
    }
   },
   "outputs": [
    {
     "name": "stderr",
     "output_type": "stream",
     "text": [
      "\n",
      "Error compiling Cython file:\n",
      "------------------------------------------------------------\n",
      "...\n",
      "\n",
      "    cdef struct ic_key:\n",
      "        uint8_t s[S_LEN]\n",
      "        uint8_t CW_chain[CW_CHAIN_LEN]\n",
      "        DTYPE_t z\n",
      "    ctypedef class Foo [object FooStructNominal]:\n",
      "    ^\n",
      "------------------------------------------------------------\n",
      "\n",
      "/make/rast/.cache/ipython/cython/_cython_magic_7ad41bdcac3798304b13bb2efff1dd7b0696435b.pyx:22:4: Module name required for 'extern' C class\n",
      "\n"
     ]
    }
   ],
   "source": [
    "%%cython -c=-maes -c=-msse -c=-msse2 -I fss -S fss/aes.c -S fss/fss.c -lsodium -c=-DNPY_NO_DEPRECATED_API=NPY_1_7_API_VERSION\n",
    "cimport numpy as np\n",
    "import numpy as np\n",
    "cimport cython\n",
    "\n",
    "from libc.string cimport memcpy, memset\n",
    "from libcpp cimport bool\n",
    "\n",
    "from libc.stdint cimport int32_t, uint8_t\n",
    "from libc.stdlib cimport malloc, free\n",
    "\n",
    "\n",
    "cdef extern from \"fss.h\" nogil:\n",
    "    ctypedef int DTYPE_t\n",
    "    const size_t S_LEN\n",
    "    const size_t SEED_LEN\n",
    "    const size_t CW_CHAIN_LEN\n",
    "\n",
    "    cdef struct ic_key:\n",
    "        uint8_t s[S_LEN]\n",
    "        uint8_t CW_chain[CW_CHAIN_LEN]\n",
    "        DTYPE_t z\n",
    "    ctypedef class Foo [object FooStructNominal]:\n",
    "        cdef:\n",
    "            uint8_t s[S_LEN]\n",
    "            uint8_t CW_chain[CW_CHAIN_LEN]\n",
    "            DTYPE_t z\n",
    "\n",
    "# build the corresponding numpy dtype for DTYPE_t\n",
    "cdef DTYPE_t tmp\n",
    "DTYPE = np.asarray(<DTYPE_t[:1]>(&tmp)).dtype\n"
   ]
  },
  {
   "cell_type": "code",
   "execution_count": 184,
   "id": "a79658e7",
   "metadata": {
    "ExecuteTime": {
     "end_time": "2023-03-01T19:49:49.783105Z",
     "start_time": "2023-03-01T19:49:42.464852Z"
    }
   },
   "outputs": [],
   "source": [
    "%%cython -c=-maes -c=-msse -c=-msse2 -I fss -S fss/aes.c -S fss/fss.c -lsodium -c=-DNPY_NO_DEPRECATED_API=NPY_1_7_API_VERSION\n",
    "cimport numpy as np\n",
    "import numpy as np\n",
    "cimport cython\n",
    "\n",
    "# from libc.string cimport memcpy, memset\n",
    "from libcpp cimport bool\n",
    "\n",
    "from libc.stdint cimport uint8_t\n",
    "\n",
    "cdef extern from \"fss.h\" nogil:\n",
    "    ctypedef int DTYPE_t\n",
    "    const size_t S_LEN, SEED_LEN, CW_CHAIN_LEN\n",
    "    cdef struct ic_key:\n",
    "        uint8_t s[S_LEN]\n",
    "        uint8_t CW_chain[CW_CHAIN_LEN]\n",
    "        DTYPE_t z\n",
    "    DTYPE_t random_dtype()\n",
    "    void random_buffer(uint8_t buffer[], size_t buffer_len)\n",
    "    void SIGN_gen(DTYPE_t r_in, DTYPE_t r_out, ic_key *k0, ic_key *k1)\n",
    "    DTYPE_t SIGN_eval(bool b, ic_key *kb_ic, DTYPE_t x_hat)\n",
    "\n",
    "# build the corresponding numpy dtype for DTYPE_t\n",
    "cdef DTYPE_t tmp\n",
    "DTYPE = np.asarray(<DTYPE_t[:1]>(&tmp)).dtype\n",
    "        \n",
    "cdef class funshade_key:\n",
    "    cdef ic_key c_key\n",
    "    cdef uint8_t[:] buffer\n",
    "    def __cinit__(self):\n",
    "        self.buffer = np.empty(shape=(S_LEN+CW_CHAIN_LEN), dtype=np.uint8)\n",
    "        self.c_key.s = <uint8_t*>&self.buffer[0]\n",
    "        self.c_key.CW_chain = <uint8_t*>&self.buffer[S_LEN]\n",
    "        self.c_key.z = 1\n",
    "            \n",
    "    # ------------------------- PYTHON LEVEL PROPERTIES -------------------- #\n",
    "    @property\n",
    "    def s(self):        return np.asarray(self.buffer[0:S_LEN])\n",
    "    @property\n",
    "    def CW_chain(self): return np.asarray(self.buffer[S_LEN:])\n",
    "    @property\n",
    "    def z(self):        return self.c_key.z\n",
    "    def __len__(self):  return S_LEN+CW_CHAIN_LEN+sizeof(DTYPE_t)\n",
    "    def __repr__(self):\n",
    "        return \"<funshade key: [s=0x{}, CW_chain=0x{}, z={}]\".format(\\\n",
    "            self.s.tobytes()[:16].hex()        + ('...' if len(self.s)>16 else ''),\\\n",
    "            self.CW_chain.tobytes()[:16].hex() + ('...' if len(self.CW_chain)>16 else ''),\\\n",
    "            self.z)\n",
    "    \n",
    "    # ----------------------------- SERIALIZATION -------------------------- #\n",
    "    cpdef bytes to_bytes(self):\n",
    "        return self.s.tobytes()+self.CW_chain.tobytes()+self.z.to_bytes(sizeof(DTYPE_t), 'little')\n",
    "    cpdef void from_bytes(self, bytes bytestring):\n",
    "        assert len(bytestring)==len(self), \\\n",
    "            f\"<Funshade ERROR> Length of the bytestring must be {len(self)} bytes\"\n",
    "        self.buffer = np.frombuffer(bytestring[:-sizeof(DTYPE_t)], dtype=np.uint8).copy()\n",
    "        self.c_key.s = <uint8_t*>&self.buffer[0]\n",
    "        self.c_key.CW_chain = <uint8_t*>&self.buffer[S_LEN]\n",
    "        self.c_key.z = <DTYPE_t> int.from_bytes(bytestring[-sizeof(DTYPE_t):], 'little')\n",
    "        \n",
    "    \n",
    "def funshade_setup(size_t l, DTYPE_t theta):\n",
    "    # Beaver Triples for Pi-sharing scalar product\n",
    "    cdef np.ndarray[DTYPE_t, ndim=1] d_x_0 = np.empty(shape=(l), dtype=DTYPE)\n",
    "    cdef np.ndarray[DTYPE_t, ndim=1] d_x_1 = np.empty(shape=(l), dtype=DTYPE)\n",
    "    cdef np.ndarray[DTYPE_t, ndim=1] d_y_0 = np.empty(shape=(l), dtype=DTYPE)\n",
    "    cdef np.ndarray[DTYPE_t, ndim=1] d_y_1 = np.empty(shape=(l), dtype=DTYPE)\n",
    "    cdef np.ndarray[DTYPE_t, ndim=1] d_xy_0 = np.empty(shape=(l), dtype=DTYPE)\n",
    "    random_buffer(<uint8_t*>d_x_0.data,  l*sizeof(DTYPE_t))\n",
    "    random_buffer(<uint8_t*>d_x_1.data,  l*sizeof(DTYPE_t))\n",
    "    random_buffer(<uint8_t*>d_y_0.data,  l*sizeof(DTYPE_t))\n",
    "    random_buffer(<uint8_t*>d_y_1.data,  l*sizeof(DTYPE_t))\n",
    "    random_buffer(<uint8_t*>d_xy_0.data, l*sizeof(DTYPE_t))\n",
    "    cdef np.ndarray[DTYPE_t, ndim=1] d_xy_1 = (d_x_0+d_x_1) * (d_y_0+d_y_1) - d_xy_0\n",
    "    \n",
    "    # FSS interval containment\n",
    "    cdef DTYPE_t r_0 = random_dtype(), r_1 = random_dtype(), r = r_0 + r_1\n",
    "    cdef DTYPE_t r_theta_0 = r_0, r_theta_1 = r_1 - theta\n",
    "    \n",
    "    cdef funshade_key k0 = funshade_key(), k1 = funshade_key()\n",
    "    SIGN_gen(r, 0, &k0.c_key, &k1.c_key)\n",
    "    \n",
    "    return d_x_0, d_x_1, d_y_0, d_y_1, d_xy_0, d_xy_1, r_theta_0, r_theta_1, k0, k1\n",
    "\n",
    "\n",
    "# def void funshade_eval(j, np.ndarray[DTYPE_t, ndim=1] xj):"
   ]
  },
  {
   "cell_type": "code",
   "execution_count": null,
   "id": "4740b79b",
   "metadata": {
    "ExecuteTime": {
     "start_time": "2023-03-01T19:49:52.080Z"
    }
   },
   "outputs": [],
   "source": [
    "funshade_setup(128, 12345)"
   ]
  },
  {
   "cell_type": "code",
   "execution_count": 4,
   "id": "a0900233",
   "metadata": {
    "ExecuteTime": {
     "end_time": "2023-03-01T19:57:52.917458Z",
     "start_time": "2023-03-01T19:57:52.192490Z"
    },
    "init_cell": true
   },
   "outputs": [
    {
     "name": "stderr",
     "output_type": "stream",
     "text": [
      "warning: /make/rast/.cache/ipython/cython/_cython_magic_99aec127c4c2bc5305f78ee0931b9f7027596619.pyx:14:90: The keyword 'nogil' should appear at the end of the function signature line. Placing it before 'except' or 'noexcept' will be disallowed in a future version of Cython.\n",
      "warning: /make/rast/.cache/ipython/cython/_cython_magic_99aec127c4c2bc5305f78ee0931b9f7027596619.pyx:16:83: The keyword 'nogil' should appear at the end of the function signature line. Placing it before 'except' or 'noexcept' will be disallowed in a future version of Cython.\n",
      "Content of stderr:\n",
      "x86_64-linux-gnu-gcc: error: /std:c++17: No such file or directory"
     ]
    }
   ],
   "source": [
    "%%cython -+ -c=/std:c++17 -I . -S AES.cpp\n",
    "cimport numpy as np\n",
    "import numpy as np\n",
    "cimport cython\n",
    "\n",
    "from libc.string cimport memcpy, memset\n",
    "\n",
    "np.import_array()\n",
    "\n",
    "cdef extern from \"AES.h\":\n",
    "    cdef cppclass AES:\n",
    "        AES()\n",
    "        AES(int keyLength)\n",
    "        void EncryptECB(const unsigned char datain[], const unsigned char key[],\n",
    "                        unsigned char dataout[],      unsigned int inLen,) nogil except * \n",
    "        void Xor3Blocks(const unsigned char *a, const unsigned char *b,\n",
    "                        unsigned char *in_out,  unsigned int inLen) nogil except * \n",
    "        \n",
    "@cython.boundscheck(False)\n",
    "@cython.wraparound(False)\n",
    "@cython.cdivision(True)\n",
    "@cython.initializedcheck(False)\n",
    "@cython.nonecheck(False)\n",
    "@cython.embedsignature(True)\n",
    "cdef class CPRG():\n",
    "    \"\"\"Cryptographically-secure Pseudo-Random Generator.\n",
    "    \n",
    "    Implemented using a Miyaguchi–Preneel construction with AES-ECB as block\n",
    "    cipher, and an arbitrary IV as first key.\n",
    "    \n",
    "    See Also:\n",
    "        https://en.wikipedia.org/wiki/One-way_compression_function\n",
    "    \"\"\"\n",
    "    cdef np.uint8_t[::1] H_i\n",
    "    cdef unsigned int aes_Bsize, hash_Bsize, n_blocks, last_n_Btob, i\n",
    "    cdef AES* my_aes\n",
    "    def __cinit__(\n",
    "        self,\n",
    "        unsigned int H0_seed    = 42,\n",
    "        unsigned int aes_Bsize  = 16,\n",
    "        unsigned int hash_Bsize = 44,\n",
    "        unsigned int last_n_Btob= 4,        \n",
    "    ):\n",
    "        rng = np.random.default_rng(seed=H0_seed)\n",
    "        self.aes_Bsize  = aes_Bsize\n",
    "        self.hash_Bsize = hash_Bsize\n",
    "        self.n_blocks   = (hash_Bsize + aes_Bsize - 1) / aes_Bsize\n",
    "        self.last_n_Btob= last_n_Btob\n",
    "        self.i          = 0\n",
    "        self.H_i        = \\\n",
    "            rng.integers(0, 2**8, size=(self.n_blocks*aes_Bsize), dtype=np.uint8)\n",
    "        assert aes_Bsize in (16, 24, 32), \"aes_Bsize must be in {16 (128b), 24 (192b), 32 (256b)} \"\n",
    "        self.my_aes     = new AES(aes_Bsize*8)\n",
    "    \n",
    "    cpdef void G(self,\n",
    "        np.ndarray[np.uint8_t, ndim=1] datain,\n",
    "        np.ndarray[np.uint8_t, ndim=1] dataout,\n",
    "    ):\n",
    "        '''AES Pseudo-random generation step'''\n",
    "        cdef Py_ssize_t j, k\n",
    "        assert datain.shape[0]  >= self.aes_Bsize, \\\n",
    "            f\"datain must have length>={self.aes_Bsize}\"\n",
    "        assert dataout.shape[0] >= self.hash_Bsize, \\\n",
    "            f\"dataout must have length>={self.aes_Bsize * self.n_blocks}\"\n",
    "        for j in range(0, self.n_blocks):\n",
    "            self.my_aes.EncryptECB(\n",
    "                <const unsigned char *>datain.data,\n",
    "                <const unsigned char *>&self.H_i[j*self.aes_Bsize],\n",
    "                <unsigned char *>&dataout[j*self.aes_Bsize],\n",
    "                self.aes_Bsize,\n",
    "            )\n",
    "            self.my_aes.Xor3Blocks(\n",
    "                <const unsigned char *>datain.data,\n",
    "                <const unsigned char *>&self.H_i[j*self.aes_Bsize],\n",
    "                <unsigned char *>&dataout[j*self.aes_Bsize],\n",
    "                self.aes_Bsize\n",
    "            )\n",
    "            memcpy(<void *>&self.H_i[j*self.aes_Bsize],\n",
    "                   <void *>&dataout[j*self.aes_Bsize],\n",
    "                   self.aes_Bsize)\n",
    "        self.i += 1\n",
    "        # Cast last n Bytes to bits (boolean) by keeping only the MSB\n",
    "        for k in range(self.hash_Bsize-self.last_n_Btob, self.hash_Bsize):\n",
    "            dataout[k] = (dataout[k] >= (1 <<7))\n",
    "\n",
    "\n",
    "\n",
    "@cython.boundscheck(False)\n",
    "@cython.wraparound(False)\n",
    "@cython.cdivision(True)\n",
    "@cython.initializedcheck(False)\n",
    "@cython.nonecheck(False)\n",
    "@cython.embedsignature(True)\n",
    "cpdef np.ndarray[np.uint8_t, ndim=1] i2b(np.uint64_t x, Py_ssize_t n=32):\n",
    "    \"\"\"Decompose a 64bit integer `x` into an uint8 array of `n` bits, MSB first\"\"\"\n",
    "    cdef np.ndarray[np.uint8_t, ndim=1] decomp = np.empty(shape=n, dtype=np.uint8)\n",
    "    cdef Py_ssize_t i\n",
    "    for i in range(n):\n",
    "        decomp[i] = ((x & 1ULL<<(n-1-i)) != 0)\n",
    "    return decomp\n",
    "\n",
    "\n",
    "@cython.boundscheck(False)\n",
    "@cython.wraparound(False)\n",
    "@cython.cdivision(True)\n",
    "@cython.initializedcheck(False)\n",
    "@cython.nonecheck(False)\n",
    "@cython.embedsignature(True)\n",
    "cdef void xor(np.uint8_t[::1] x1, np.uint8_t[::1] x2, np.uint8_t[::1] dest):\n",
    "    cdef Py_ssize_t i\n",
    "    for i in range(x1.shape[0]):\n",
    "        dest[i] = x1[i] ^ x2[i]\n",
    "\n",
    "\n",
    "@cython.boundscheck(False)\n",
    "@cython.wraparound(False)\n",
    "@cython.cdivision(True)\n",
    "@cython.initializedcheck(False)\n",
    "@cython.nonecheck(False)\n",
    "@cython.embedsignature(True)\n",
    "cpdef void xor3(np.uint8_t[::1] x1, np.uint8_t[::1] x2, np.uint8_t[::1] x3, np.uint8_t[::1] dest):\n",
    "    cdef Py_ssize_t i\n",
    "    for i in range(x1.shape[0]):\n",
    "        dest[i] = x1[i] ^ x2[i] ^ x3[i]\n",
    "\n",
    "@cython.boundscheck(False)\n",
    "@cython.wraparound(False)\n",
    "@cython.cdivision(True)\n",
    "@cython.initializedcheck(False)\n",
    "@cython.nonecheck(False)\n",
    "@cython.embedsignature(True)\n",
    "cpdef FSS_Comp_KeyGen_cy(lambd: int=128, dtype_Z2n: type=np.uint32, seed: int=42):\n",
    "    # Set Ring info from dtype\n",
    "    if not np.issubdtype(dtype_Z2n, np.integer):\n",
    "        raise TypeError(\"dtype must be a numeric numpy type\")\n",
    "    Z2n_info = np.iinfo(dtype_Z2n)\n",
    "    Z2n = (Z2n_info.min, Z2n_info.max)\n",
    "    cdef Py_ssize_t n   = Z2n_info.bits\n",
    "    \n",
    "    # Set convenient relative positions in the cw/CW arrays for each parameter\n",
    "    cdef Py_ssize_t lambd_B  = lambd//8,  n_B = n//8,\\\n",
    "                    CW_B     = 2*lambd_B + 2*n_B + 4,\\\n",
    "                    CW_B_aes = ((CW_B + lambd_B - 1) // lambd_B) * lambd_B\n",
    "    cdef Py_ssize_t sL_ = 0,                        _sL = lambd_B,\\\n",
    "                    sR_ = lambd_B,                  _sR = 2*lambd_B,\\\n",
    "                    sigmaL_ = 2*lambd_B,            _sigmaL = 2*lambd_B + n_B, \\\n",
    "                    sigmaR_ = 2*lambd_B + n_B,      _sigmaR = 2*lambd_B + 2*n_B, \\\n",
    "                    tL_     = 2*lambd_B + 2*n_B,\\\n",
    "                    tR_     = 2*lambd_B + 2*n_B +1,\\\n",
    "                    tauL_   = 2*lambd_B + 2*n_B + 2,\\\n",
    "                    tauR_   = 2*lambd_B + 2*n_B + 3\n",
    "    \n",
    "    # set seed for reproducibility\n",
    "    np.random.seed(seed)\n",
    "    \n",
    "    # set secure PRG\n",
    "    cdef CPRG prg_0 = CPRG(aes_Bsize=lambd_B, hash_Bsize=CW_B, last_n_Btob=4)\n",
    "    cdef CPRG prg_1 = CPRG(aes_Bsize=lambd_B, hash_Bsize=CW_B, last_n_Btob=4)\n",
    "    \n",
    "    # Sample random mask alpha <- Z2n, decompose it in bits and split in shares\n",
    "    cdef np.int64_t alpha     = np.random.randint(low=Z2n[0], high=Z2n[1], dtype=dtype_Z2n)\n",
    "    cdef np.int64_t alpha_ss0 = np.random.randint(low=Z2n[0], high=Z2n[1], dtype=dtype_Z2n)\n",
    "    cdef np.int64_t alpha_ss1 = dtype_Z2n(alpha - alpha_ss0)\n",
    "    cdef np.ndarray[np.uint8_t, ndim=1] alpha_bits = i2b(alpha, n)\n",
    "    \n",
    "    # Sample initial random s(1)j <- {0, 1}**lambd and set t(1)j <- j, for j = 0, 1\n",
    "    cdef np.ndarray[np.uint8_t, ndim=1] s0 = np.random.randint(low=0, high=2**8, size=lambd_B, dtype=np.uint8)\n",
    "    cdef np.ndarray[np.uint8_t, ndim=1] s1 = np.random.randint(low=0, high=2**8, size=lambd_B, dtype=np.uint8)\n",
    "    cdef np.uint8_t t0 = 0, t1 = 1\n",
    " \n",
    "    # Store initial states to append them to the functional keys\n",
    "    cdef np.ndarray[np.uint8_t, ndim=1] s0_init = np.copy(s0)\n",
    "    cdef np.ndarray[np.uint8_t, ndim=1] s1_init = np.copy(s1)\n",
    "    \n",
    "    # Initilize correction words\n",
    "    cdef np.ndarray[np.uint8_t, ndim=2] CWleaf = np.zeros(shape=(n+1, n_B),  dtype=np.uint8)\n",
    "    cdef np.ndarray[np.uint8_t, ndim=2] CW     = np.zeros(shape=(n, CW_B),   dtype=np.uint8)\n",
    "    cdef np.ndarray[np.uint8_t, ndim=1] cw     = np.zeros(shape=(CW_B),      dtype=np.uint8)\n",
    "    \n",
    "    # Initialize intermediate values\n",
    "    cdef np.ndarray[np.uint8_t, ndim=1] Gs0    = np.zeros(shape=(CW_B_aes), dtype=np.uint8)\n",
    "    cdef np.ndarray[np.uint8_t, ndim=1] Gs1    = np.zeros(shape=(CW_B_aes), dtype=np.uint8)\n",
    "    cdef np.ndarray[np.uint8_t, ndim=1] sigma0 = np.zeros(shape=(n_B),      dtype=np.uint8)\n",
    "    cdef np.ndarray[np.uint8_t, ndim=1] sigma1 = np.zeros(shape=(n_B),      dtype=np.uint8)\n",
    "    cdef np.uint8_t tau0 = 0, tau1 = 1\n",
    "    \n",
    "    # Loop over each node in the tree\n",
    "    cdef Py_ssize_t i\n",
    "    for i in range(n):\n",
    "        print(f\"STEP {i}\")\n",
    "        # Gs = [sL, sR, sigmaL, sigmaR, tL, tR, tauL, tauR]\n",
    "        prg_0.G(datain=s0, dataout=Gs0)\n",
    "        prg_1.G(datain=s1, dataout=Gs1)\n",
    "        print(f\"Gs0: {Gs0}, Gs1: {Gs1}\")\n",
    "        # cw based on bit α_bits[i]\n",
    "        memset(&cw[0], 0, CW_B)  # Reset cw\n",
    "        if alpha_bits[i]:\n",
    "            xor(Gs0[sL_:_sL],         Gs1[sL_:_sL],         dest=cw[sR_:_sR])\n",
    "            xor(Gs0[sigmaR_:_sigmaR], Gs1[sigmaR_:_sigmaR], dest=cw[sigmaL_:_sigmaL])\n",
    "            cw[tR_]             = 1\n",
    "            cw[tauL_]           = 1\n",
    "        else:\n",
    "            xor(Gs0[sR_:_sR],         Gs1[sR_:_sR],         dest=cw[sL_:_sL])\n",
    "            xor(Gs0[sigmaL_:_sigmaL], Gs1[sigmaL_:_sigmaL], dest=cw[sigmaR_:_sigmaR])\n",
    "            cw[tL_]             = 1\n",
    "            cw[tauR_]           = 1\n",
    "        print(f\"cw: {cw}\")\n",
    "        # mask cw with G(s0) and G(s1) inside CW\n",
    "        xor3(cw, Gs0, Gs1, dest=CW[i])\n",
    "        print(f\"CW[i]: {CW[i]}\")\n",
    "        # compute each party's next state -> unmask his state word only if  tj[i]==1, else all zeros \n",
    "        if t0:           xor(CW[i], Gs0, dest=Gs0) \n",
    "        else:            memset(&Gs0[0], 0, CW_B)\n",
    "        if t1:           xor(CW[i], Gs1, dest=Gs1)\n",
    "        else:            memset(&Gs1[0], 0, CW_B)\n",
    "        print(f\"Gs0_p: {Gs0}, Gs1_p: {Gs1}\")\n",
    "        #  and append to the list of states\n",
    "        #    Parse sj tj\n",
    "        if alpha_bits[i]:\n",
    "            s0        = Gs0[sR_:_sR];         t0   = Gs0[tR_]\n",
    "            s1        = Gs1[sR_:_sR];         t1   = Gs1[tR_]\n",
    "            sigma0    = Gs0[sigmaL_:_sigmaL]; tau0 = Gs0[tauL_]\n",
    "            sigma1    = Gs1[sigmaL_:_sigmaL]; tau1 = Gs1[tauL_]\n",
    "        else:\n",
    "            s0        = Gs0[sL_:_sL];         t0   = Gs0[tL_]\n",
    "            s1        = Gs1[sL_:_sL];         t1   = Gs1[tL_]\n",
    "            sigma0    = Gs0[sigmaR_:_sigmaR]; tau0 = Gs0[tauR_]\n",
    "            sigma1    = Gs1[sigmaR_:_sigmaR]; tau1 = Gs1[tauR_]\n",
    "        print(f\"s0: {s0}, s1: {s1}, sigma0: {sigma0}, sigma1: {sigma1}, t0: {t0}, t1: {t1}, tau0: {tau0}, tau1: {tau1}\")\n",
    "        print(f\"{tau1}, {alpha_bits[i]}, {sigma0.view(dtype_Z2n)}, {sigma1.view(dtype_Z2n)}\")\n",
    "        CWleaf[i] = dtype_Z2n((-1)**(tau1) * (alpha_bits[i] - sigma0.view(dtype_Z2n) + sigma1.view(dtype_Z2n))).flatten().view(np.uint8)\n",
    "    CWleaf[n]     = dtype_Z2n((-1)**(t1)   * (1             - s0.view(dtype_Z2n)[0]  + s1.view(dtype_Z2n)[0])).flatten().view(np.uint8)\n",
    "\n",
    "    # build FSS keys for each party\n",
    "    k0 = (alpha_ss0, s0_init, CW, CWleaf)\n",
    "    k1 = (alpha_ss1, s1_init, CW, CWleaf)\n",
    "    return k0, k1"
   ]
  },
  {
   "cell_type": "markdown",
   "id": "778981b5",
   "metadata": {
    "heading_collapsed": true
   },
   "source": [
    "### Example"
   ]
  },
  {
   "cell_type": "code",
   "execution_count": 5,
   "id": "21a7097c",
   "metadata": {
    "ExecuteTime": {
     "end_time": "2023-03-01T19:57:53.517891Z",
     "start_time": "2023-03-01T19:57:52.919296Z"
    },
    "hidden": true,
    "init_cell": true
   },
   "outputs": [
    {
     "ename": "NameError",
     "evalue": "name 'FSS_Comp_KeyGen_cy' is not defined",
     "output_type": "error",
     "traceback": [
      "\u001b[0;31m---------------------------------------------------------------------------\u001b[0m",
      "\u001b[0;31mNameError\u001b[0m                                 Traceback (most recent call last)",
      "Cell \u001b[0;32mIn [5], line 1\u001b[0m\n\u001b[0;32m----> 1\u001b[0m k0, k1 \u001b[38;5;241m=\u001b[39m \u001b[43mFSS_Comp_KeyGen_cy\u001b[49m()\n\u001b[1;32m      2\u001b[0m α \u001b[38;5;241m=\u001b[39m np\u001b[38;5;241m.\u001b[39muint32(k0[\u001b[38;5;241m0\u001b[39m]) \u001b[38;5;241m+\u001b[39m np\u001b[38;5;241m.\u001b[39muint32(k1[\u001b[38;5;241m0\u001b[39m])\n\u001b[1;32m      3\u001b[0m α\n",
      "\u001b[0;31mNameError\u001b[0m: name 'FSS_Comp_KeyGen_cy' is not defined"
     ]
    }
   ],
   "source": [
    "k0, k1 = FSS_Comp_KeyGen_cy()\n",
    "α = np.uint32(k0[0]) + np.uint32(k1[0])\n",
    "α"
   ]
  },
  {
   "cell_type": "code",
   "execution_count": 254,
   "id": "ed975769",
   "metadata": {
    "ExecuteTime": {
     "end_time": "2022-08-29T17:47:53.694689Z",
     "start_time": "2022-08-29T17:47:53.679577Z"
    },
    "hidden": true
   },
   "outputs": [
    {
     "data": {
      "text/plain": [
       "array([0, 1, 0, 1, 1, 1, 1, 1, 1, 1, 1, 0, 0, 0, 0, 1, 1, 1, 0, 1, 1, 1,\n",
       "       0, 0, 0, 1, 1, 0, 0, 1, 1, 0], dtype=uint8)"
      ]
     },
     "execution_count": 254,
     "metadata": {},
     "output_type": "execute_result"
    }
   ],
   "source": [
    "i2b(α)"
   ]
  },
  {
   "cell_type": "code",
   "execution_count": 25,
   "id": "e2f09e32",
   "metadata": {
    "ExecuteTime": {
     "end_time": "2022-08-30T09:22:18.869048Z",
     "start_time": "2022-08-30T09:22:15.765496Z"
    },
    "hidden": true
   },
   "outputs": [
    {
     "name": "stdout",
     "output_type": "stream",
     "text": [
      "-32: [1338678893 1338678398 1338678334 1338678398]\n",
      "-31: [3878951822 3878951326 3878951262 3878951326]\n",
      "-30: [1680832434 1680831937 1680831873 1680831937]\n",
      "-29: [450150991 450150495 450150431 450150495]\n",
      "-28: [1334643339 1334642842 1334642778 1334642842]\n",
      "-27: [3053888208 3053887711 3053887647 3053887711]\n",
      "-26: [2033930678 2033930180 2033930116 2033930180]\n",
      "-25: [4076664120 4076663623 4076663559 4076663623]\n",
      "-24: [1103225254 1103224754 1103224690 1103224754]\n",
      "-23: [2132075133 2132074634 2132074570 2132074634]\n",
      "-22: [2700399493 2700398996 2700398932 2700398996]\n",
      "-21: [1520836166 1520835669 1520835605 1520835669]\n",
      "-20: [3553978144 3553977647 3553977583 3553977647]\n",
      "-19: [742839779 742839280 742839216 742839280]\n",
      "-18: [219841912 219841414 219841350 219841414]\n",
      "-17: [3908243459 3908242960 3908242896 3908242960]\n",
      "-16: [2197714996 2197714497 2197714433 2197714497]\n",
      "-15: [1117139674 1117139175 1117139111 1117139175]\n",
      "-14: [979658782 979658285 979658221 979658285]\n",
      "-13: [2686683153 2686682656 2686682592 2686682656]\n",
      "-12: [1540628208 1540627712 1540627648 1540627712]\n",
      "-11: [1906005472 1906004977 1906004913 1906004977]\n",
      "-10: [2243543148 2243542651 2243542587 2243542651]\n",
      "-9: [1817635195 1817634699 1817634635 1817634699]\n",
      "-8: [1904842692 1904842195 1904842131 1904842195]\n",
      "-7: [3829525648 3829525151 3829525087 3829525151]\n",
      "-6: [3511790909 3511790412 3511790348 3511790412]\n",
      "-5: [2367167025 2367166529 2367166465 2367166529]\n",
      "-4: [1528075172 1528074674 1528074610 1528074674]\n",
      "-3: [3248040582 3248040085 3248040021 3248040085]\n",
      "-2: [4012551891 4012551393 4012551329 4012551393]\n",
      "-1: [354741200 354740702 354740638 354740702]\n",
      "0: [2171460777 2171460280 2171460216 2171460280]\n",
      "1: [1827156982 1827156486 1827156422 1827156486]\n",
      "2: [3497847093 3497846597 3497846533 3497846597]\n",
      "3: [1726851871 1726851374 1726851310 1726851374]\n",
      "4: [3625937759 3625937262 3625937198 3625937262]\n",
      "5: [2931563950 2931563453 2931563389 2931563453]\n",
      "6: [245955181 245954684 245954620 245954684]\n",
      "7: [1896870992 1896870496 1896870432 1896870496]\n",
      "8: [743182584 743182089 743182025 743182089]\n",
      "9: [3667833836 3667833342 3667833278 3667833342]\n",
      "10: [1231919047 1231918550 1231918486 1231918550]\n",
      "11: [2203165407 2203164911 2203164847 2203164911]\n",
      "12: [1019273817 1019273321 1019273257 1019273321]\n",
      "13: [3511774132 3511773636 3511773572 3511773636]\n",
      "14: [3509952190 3509951692 3509951628 3509951692]\n",
      "15: [2008385067 2008384569 2008384505 2008384569]\n",
      "16: [2802195006 2802194509 2802194445 2802194509]\n",
      "17: [3511242680 3511242184 3511242120 3511242184]\n",
      "18: [3609485693 3609485195 3609485131 3609485195]\n",
      "19: [2289743448 2289742949 2289742885 2289742949]\n",
      "20: [1910672623 1910672124 1910672060 1910672124]\n",
      "21: [2072980361 2072979864 2072979800 2072979864]\n",
      "22: [2853669392 2853668894 2853668830 2853668894]\n",
      "23: [1470555676 1470555179 1470555115 1470555179]\n",
      "24: [1835201751 1835201254 1835201190 1835201254]\n",
      "25: [2448259703 2448259206 2448259142 2448259206]\n",
      "26: [635947880 635947382 635947318 635947382]\n",
      "27: [3525090640 3525090142 3525090078 3525090142]\n",
      "28: [4107488991 4107488493 4107488429 4107488493]\n",
      "29: [2469275729 2469275229 2469275165 2469275229]\n",
      "30: [1502145095 1502144600 1502144536 1502144600]\n",
      "31: [2129948192 2129947698 2129947634 2129947698]\n",
      "32: [2577117256 2577116758 2577116694 2577116758]\n"
     ]
    }
   ],
   "source": [
    "for y in range(-32, 33):\n",
    "    x = (y + α) % (2**n)\n",
    "    res = (1 - FSS_Comparison_Eval(0, k0, x) - FSS_Comparison_Eval(1, k1, x)) % (2**n)\n",
    "    print(f'{y}: {res}')"
   ]
  },
  {
   "cell_type": "markdown",
   "id": "9c6cae31",
   "metadata": {},
   "source": [
    "# FSS Comparison2 (correctness!)"
   ]
  },
  {
   "cell_type": "code",
   "execution_count": null,
   "id": "e625215c",
   "metadata": {},
   "outputs": [],
   "source": []
  },
  {
   "cell_type": "code",
   "execution_count": 55,
   "id": "45a37d6c",
   "metadata": {
    "ExecuteTime": {
     "end_time": "2022-08-31T07:00:02.912062Z",
     "start_time": "2022-08-31T07:00:02.896439Z"
    }
   },
   "outputs": [
    {
     "data": {
      "text/plain": [
       "1"
      ]
     },
     "execution_count": 55,
     "metadata": {},
     "output_type": "execute_result"
    }
   ],
   "source": [
    "(1 - FSS_Comparison_Eval_cy(0, key0, x) - FSS_Comparison_Eval_cy(1, key1, x)) % (2**n)"
   ]
  },
  {
   "cell_type": "markdown",
   "id": "10848f91",
   "metadata": {
    "heading_collapsed": true
   },
   "source": [
    "# Funshade: SP & FSS_sign"
   ]
  },
  {
   "cell_type": "code",
   "execution_count": 242,
   "id": "1143d29d",
   "metadata": {
    "ExecuteTime": {
     "end_time": "2022-08-18T22:27:14.354981Z",
     "start_time": "2022-08-18T22:27:14.339358Z"
    },
    "hidden": true
   },
   "outputs": [],
   "source": [
    "l         = 128\n",
    "threshold = 0.4\n",
    "\n",
    "rng = np.random.default_rng(seed=4242)\n",
    "def sample_biometric_template():\n",
    "    template = rng.exponential(size=l)   # choosing an arbitraty element distribution for the example.\n",
    "    return template / np.linalg.norm(template)\n",
    "\n",
    "# Biometric data generation\n",
    "live_template = sample_biometric_template()\n",
    "ref_template  = sample_biometric_template()\n",
    "\n",
    "# Biometric data rescaling --> Fixed-point approximation\n",
    "s = 2**12\n",
    "live_template_s = list((live_template * s).astype(int))\n",
    "ref_template_s  = list((ref_template  * s).astype(int))\n",
    "threshold_s     = int(threshold * s**2)"
   ]
  },
  {
   "cell_type": "code",
   "execution_count": 35,
   "id": "ace01127",
   "metadata": {
    "ExecuteTime": {
     "end_time": "2022-08-23T15:53:20.324185Z",
     "start_time": "2022-08-23T15:53:20.308557Z"
    },
    "hidden": true
   },
   "outputs": [],
   "source": [
    "seed = np.random.randint(2**8, size=16, dtype=np.uint8)"
   ]
  },
  {
   "cell_type": "code",
   "execution_count": null,
   "id": "a3bc50a3",
   "metadata": {
    "hidden": true
   },
   "outputs": [],
   "source": [
    "%%cython -+ -c=/O2 -a\n",
    "cimport numpy as np\n",
    "import numpy as np\n",
    "cimport cython\n",
    "\n",
    "from libc.string cimport memset\n",
    "\n",
    "np.import_array()\n"
   ]
  }
 ],
 "metadata": {
  "celltoolbar": "Initialization Cell",
  "hide_input": false,
  "kernelspec": {
   "display_name": "Python 3 (ipykernel)",
   "language": "python",
   "name": "python3"
  },
  "language_info": {
   "codemirror_mode": {
    "name": "ipython",
    "version": 3
   },
   "file_extension": ".py",
   "mimetype": "text/x-python",
   "name": "python",
   "nbconvert_exporter": "python",
   "pygments_lexer": "ipython3",
   "version": "3.8.10"
  },
  "toc": {
   "base_numbering": 1,
   "nav_menu": {
    "height": "237.267px",
    "width": "249.3px"
   },
   "number_sections": true,
   "sideBar": true,
   "skip_h1_title": false,
   "title_cell": "Table of Contents",
   "title_sidebar": "Contents",
   "toc_cell": false,
   "toc_position": {
    "height": "100px",
    "left": "1217.53px",
    "top": "677.967px",
    "width": "310px"
   },
   "toc_section_display": true,
   "toc_window_display": false
  },
  "varInspector": {
   "cols": {
    "lenName": 16,
    "lenType": 16,
    "lenVar": 40
   },
   "kernels_config": {
    "python": {
     "delete_cmd_postfix": "",
     "delete_cmd_prefix": "del ",
     "library": "var_list.py",
     "varRefreshCmd": "print(var_dic_list())"
    },
    "r": {
     "delete_cmd_postfix": ") ",
     "delete_cmd_prefix": "rm(",
     "library": "var_list.r",
     "varRefreshCmd": "cat(var_dic_list()) "
    }
   },
   "types_to_exclude": [
    "module",
    "function",
    "builtin_function_or_method",
    "instance",
    "_Feature"
   ],
   "window_display": false
  },
  "vscode": {
   "interpreter": {
    "hash": "397704579725e15f5c7cb49fe5f0341eb7531c82d19f2c29d197e8b64ab5776b"
   }
  }
 },
 "nbformat": 4,
 "nbformat_minor": 5
}
